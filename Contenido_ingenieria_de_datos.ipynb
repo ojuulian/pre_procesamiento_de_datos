{
 "cells": [
  {
   "cell_type": "markdown",
   "metadata": {},
   "source": [
    "<h2 align=\"center\">Pre-procesamiento de datos </h2>\n",
    "<h2 align=\"center\"></h2>\n",
    "\n",
    "Para dar un abordaje al preprocesamiento de información, se propone el siguiente contenido el cual contrasta la teoría y la práctica por medio de scrips en *jupyter notebook* \n",
    "\n",
    "\n",
    "\n",
    "<h3>Autor</h3>\n",
    "\n",
    "1. Oscar Julian Layton Galindo, ojlaytong@unal.edu.co\n",
    "\n",
    "\n",
    "\n",
    "<h3>Lenguaje de Programación </h3>\n",
    "\n",
    "Python 3.7"
   ]
  },
  {
   "cell_type": "markdown",
   "metadata": {},
   "source": [
    "<h2 align='center'>Ingenieria de datos</h2>\n",
    "\n",
    "<h3>  LLamada de datasets </h3>\n",
    "\n",
    "1. [Py Enrutamiento en Google Colaboratory (Colab) .](./scripts_ingenieria_datos/1_guardar_y_cargar_en_colab.ipynb)\n",
    "2. [Py Carga de archivos y generador de archivos con Pandas.](./scripts_ingenieria_datos/2_lectura_escritura_de_archivos.ipynb)\n",
    "3. [Py Bases de datos - desde python.](./scripts_ingenieria_datos/2_t2_sql.ipynb)\n",
    "\n",
    "<h3>  Características básicas de Pandas </h3>\n",
    "\n",
    "1. [Py Generalidades de Pandas.](./scripts_ingenieria_datos/0_pd_generalidades_pandas.ipynb)\n",
    "2. [Py Cambiando indices en DataFrames y Series.](./scripts_ingenieria_datos/6_multi_index.ipynb)\n",
    "3. [Py Series DataFrames y funcion concat-append.](./scripts_ingenieria_datos/8_concat_append.ipynb)\n",
    "4. [Py merge para unir DataFrames.](./scripts_ingenieria_datos/9_merge.ipynb)\n",
    "5. [Py Manejo de datos faltantes.](./scripts_ingenieria_datos/10_datos_faltantes.ipynb)\n",
    "6. [Py Manejo de datos repetidos.](./scripts_ingenieria_datos/11_datos_repetidos.ipynb)\n",
    "7. [Py Groupby - datos de diamantes.](./scripts_ingenieria_datos/12_groupby.ipynb)\n",
    "8. [Py Agregation - datos facturas de clientes.](./scripts_ingenieria_datos/13_agregation.ipynb)\n",
    "9. [Py Groupby-Pivot - datos facturas de clientes.](./scripts_ingenieria_datos/14_groupby_pivot.ipynb)\n",
    "10. [Py Series de tiempo - datos covid 19.](./scripts_ingenieria_datos/15_series_de_tiempo.ipynb)\n",
    "\n",
    "<h3>  Preprocesamiento de información </h3>\n",
    "\n",
    "1. [Py Datos de meteoritos.](./scripts_ingenieria_datos/3_meteorite.ipynb)\n",
    "2. [Py funciones lambda y datos bicicletas en Londres.](./scripts_ingenieria_datos/5_funciones_lambda_datos_bicicletas.ipynb)\n",
    "3. [Py Rutina de filtrado - datos de temperatura en el mundo.](./scripts_ingenieria_datos/16_Extra_Pandas_routine.ipynb)\n",
    "4. [Py Rutina de filtrado uniendo bases de datos - datos de temperatura en el mundo.](./scripts_ingenieria_datos/17_Extra_Pandas_routine.ipynb)"
   ]
  },
  {
   "cell_type": "markdown",
   "metadata": {},
   "source": [
    "---\n"
   ]
  }
 ],
 "metadata": {
  "kernelspec": {
   "display_name": "Python 3",
   "language": "python",
   "name": "python3"
  },
  "language_info": {
   "codemirror_mode": {
    "name": "ipython",
    "version": 3
   },
   "file_extension": ".py",
   "mimetype": "text/x-python",
   "name": "python",
   "nbconvert_exporter": "python",
   "pygments_lexer": "ipython3",
   "version": "3.7.9"
  }
 },
 "nbformat": 4,
 "nbformat_minor": 4
}
