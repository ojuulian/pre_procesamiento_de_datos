{
 "cells": [
  {
   "cell_type": "markdown",
   "metadata": {
    "colab_type": "text",
    "id": "66E-OR0Abh-2"
   },
   "source": [
    "<img src=\"./unal.png\" align=left width=\"150\" height=\"150\"></img>\n",
    "\n",
    "$\\;$\n",
    "---\n",
    "\n",
    "<h2 align=\"center\">SERIES DE TIEMPO</h2>\n",
    "\n"
   ]
  },
  {
   "cell_type": "code",
   "execution_count": null,
   "metadata": {
    "colab": {},
    "colab_type": "code",
    "id": "60rc2bOgvl76"
   },
   "outputs": [],
   "source": [
    "!pip install --upgrade pandas"
   ]
  },
  {
   "cell_type": "code",
   "execution_count": 1,
   "metadata": {
    "colab": {
     "base_uri": "https://localhost:8080/",
     "height": 122
    },
    "colab_type": "code",
    "id": "jW-PaDJ_vqNM",
    "outputId": "29b84ea9-41f2-4482-8b80-c9ab9054025e"
   },
   "outputs": [
    {
     "name": "stdout",
     "output_type": "stream",
     "text": [
      "Go to this URL in a browser: https://accounts.google.com/o/oauth2/auth?client_id=947318989803-6bn6qk8qdgf4n4g3pfee6491hc0brc4i.apps.googleusercontent.com&redirect_uri=urn%3aietf%3awg%3aoauth%3a2.0%3aoob&scope=email%20https%3a%2f%2fwww.googleapis.com%2fauth%2fdocs.test%20https%3a%2f%2fwww.googleapis.com%2fauth%2fdrive%20https%3a%2f%2fwww.googleapis.com%2fauth%2fdrive.photos.readonly%20https%3a%2f%2fwww.googleapis.com%2fauth%2fpeopleapi.readonly&response_type=code\n",
      "\n",
      "Enter your authorization code:\n",
      "··········\n",
      "Mounted at /content/drive/\n"
     ]
    }
   ],
   "source": [
    "from google.colab import drive\n",
    "drive.mount('/content/drive/')"
   ]
  },
  {
   "cell_type": "code",
   "execution_count": 4,
   "metadata": {
    "colab": {
     "base_uri": "https://localhost:8080/",
     "height": 68
    },
    "colab_type": "code",
    "id": "D57twFIDvynx",
    "outputId": "e85fa0f0-d757-400b-8d5f-8fc8f22acba9"
   },
   "outputs": [
    {
     "name": "stdout",
     "output_type": "stream",
     "text": [
      "/content/drive/My Drive/Colab Notebooks/db\n",
      "covid_19.csv\t   Meteorite_Landings.csv  test.csv  test.json\t   test.pkl\n",
      "london_merged.csv  poblacion.csv\t   test.hdf  test.parquet  test.xlsx\n"
     ]
    }
   ],
   "source": [
    "%cd '/content/drive/My Drive/Colab Notebooks/db'\n",
    "!ls"
   ]
  },
  {
   "cell_type": "code",
   "execution_count": 2,
   "metadata": {
    "colab": {
     "base_uri": "https://localhost:8080/",
     "height": 35
    },
    "colab_type": "code",
    "id": "El4Kv86KxU_K",
    "outputId": "92559918-97db-4493-f57a-2b09fb45ffb2"
   },
   "outputs": [
    {
     "data": {
      "text/plain": [
       "'1.2.0'"
      ]
     },
     "execution_count": 2,
     "metadata": {},
     "output_type": "execute_result"
    }
   ],
   "source": [
    "import pandas as pd\n",
    "pd.__version__"
   ]
  },
  {
   "cell_type": "code",
   "execution_count": 17,
   "metadata": {
    "colab": {
     "base_uri": "https://localhost:8080/",
     "height": 359
    },
    "colab_type": "code",
    "id": "yqL9alcFzsk4",
    "outputId": "f35ab47a-4b92-4d90-8eea-b1c40b32d0a2"
   },
   "outputs": [
    {
     "data": {
      "text/html": [
       "<div>\n",
       "<style scoped>\n",
       "    .dataframe tbody tr th:only-of-type {\n",
       "        vertical-align: middle;\n",
       "    }\n",
       "\n",
       "    .dataframe tbody tr th {\n",
       "        vertical-align: top;\n",
       "    }\n",
       "\n",
       "    .dataframe thead th {\n",
       "        text-align: right;\n",
       "    }\n",
       "</style>\n",
       "<table border=\"1\" class=\"dataframe\">\n",
       "  <thead>\n",
       "    <tr style=\"text-align: right;\">\n",
       "      <th></th>\n",
       "      <th>SNo</th>\n",
       "      <th>ObservationDate</th>\n",
       "      <th>Province/State</th>\n",
       "      <th>Country/Region</th>\n",
       "      <th>Last Update</th>\n",
       "      <th>Confirmed</th>\n",
       "      <th>Deaths</th>\n",
       "      <th>Recovered</th>\n",
       "    </tr>\n",
       "  </thead>\n",
       "  <tbody>\n",
       "    <tr>\n",
       "      <th>18915</th>\n",
       "      <td>18916</td>\n",
       "      <td>04/26/2020</td>\n",
       "      <td>Northern Mariana Islands</td>\n",
       "      <td>US</td>\n",
       "      <td>2020-04-27 02:31:20</td>\n",
       "      <td>14.0</td>\n",
       "      <td>2.0</td>\n",
       "      <td>0.0</td>\n",
       "    </tr>\n",
       "    <tr>\n",
       "      <th>43222</th>\n",
       "      <td>43223</td>\n",
       "      <td>06/16/2020</td>\n",
       "      <td>Blekinge</td>\n",
       "      <td>Sweden</td>\n",
       "      <td>2020-06-17 04:33:21</td>\n",
       "      <td>382.0</td>\n",
       "      <td>9.0</td>\n",
       "      <td>0.0</td>\n",
       "    </tr>\n",
       "    <tr>\n",
       "      <th>35859</th>\n",
       "      <td>35860</td>\n",
       "      <td>06/05/2020</td>\n",
       "      <td>Virginia</td>\n",
       "      <td>US</td>\n",
       "      <td>2020-06-06 02:33:00</td>\n",
       "      <td>48532.0</td>\n",
       "      <td>1454.0</td>\n",
       "      <td>0.0</td>\n",
       "    </tr>\n",
       "    <tr>\n",
       "      <th>64328</th>\n",
       "      <td>64329</td>\n",
       "      <td>07/15/2020</td>\n",
       "      <td>Apurimac</td>\n",
       "      <td>Peru</td>\n",
       "      <td>2020-07-16 04:44:59</td>\n",
       "      <td>668.0</td>\n",
       "      <td>23.0</td>\n",
       "      <td>0.0</td>\n",
       "    </tr>\n",
       "    <tr>\n",
       "      <th>12647</th>\n",
       "      <td>12648</td>\n",
       "      <td>04/07/2020</td>\n",
       "      <td>NaN</td>\n",
       "      <td>Italy</td>\n",
       "      <td>2020-04-07 23:11:31</td>\n",
       "      <td>135586.0</td>\n",
       "      <td>17127.0</td>\n",
       "      <td>24392.0</td>\n",
       "    </tr>\n",
       "    <tr>\n",
       "      <th>29113</th>\n",
       "      <td>29114</td>\n",
       "      <td>05/25/2020</td>\n",
       "      <td>NaN</td>\n",
       "      <td>Senegal</td>\n",
       "      <td>2020-05-26 02:32:35</td>\n",
       "      <td>3130.0</td>\n",
       "      <td>35.0</td>\n",
       "      <td>1515.0</td>\n",
       "    </tr>\n",
       "    <tr>\n",
       "      <th>84936</th>\n",
       "      <td>84937</td>\n",
       "      <td>08/12/2020</td>\n",
       "      <td>NaN</td>\n",
       "      <td>Denmark</td>\n",
       "      <td>2020-08-13 04:29:15</td>\n",
       "      <td>15070.0</td>\n",
       "      <td>621.0</td>\n",
       "      <td>13066.0</td>\n",
       "    </tr>\n",
       "    <tr>\n",
       "      <th>25925</th>\n",
       "      <td>25926</td>\n",
       "      <td>05/17/2020</td>\n",
       "      <td>Shanxi</td>\n",
       "      <td>Mainland China</td>\n",
       "      <td>2020-05-18 02:32:21</td>\n",
       "      <td>198.0</td>\n",
       "      <td>0.0</td>\n",
       "      <td>198.0</td>\n",
       "    </tr>\n",
       "    <tr>\n",
       "      <th>98006</th>\n",
       "      <td>98007</td>\n",
       "      <td>08/29/2020</td>\n",
       "      <td>Narino</td>\n",
       "      <td>Colombia</td>\n",
       "      <td>2020-08-30 04:28:22</td>\n",
       "      <td>13814.0</td>\n",
       "      <td>493.0</td>\n",
       "      <td>10795.0</td>\n",
       "    </tr>\n",
       "    <tr>\n",
       "      <th>77026</th>\n",
       "      <td>77027</td>\n",
       "      <td>08/01/2020</td>\n",
       "      <td>Espirito Santo</td>\n",
       "      <td>Brazil</td>\n",
       "      <td>2020-08-02 04:34:47</td>\n",
       "      <td>83814.0</td>\n",
       "      <td>2566.0</td>\n",
       "      <td>68130.0</td>\n",
       "    </tr>\n",
       "  </tbody>\n",
       "</table>\n",
       "</div>"
      ],
      "text/plain": [
       "         SNo ObservationDate  ...   Deaths Recovered\n",
       "18915  18916      04/26/2020  ...      2.0       0.0\n",
       "43222  43223      06/16/2020  ...      9.0       0.0\n",
       "35859  35860      06/05/2020  ...   1454.0       0.0\n",
       "64328  64329      07/15/2020  ...     23.0       0.0\n",
       "12647  12648      04/07/2020  ...  17127.0   24392.0\n",
       "29113  29114      05/25/2020  ...     35.0    1515.0\n",
       "84936  84937      08/12/2020  ...    621.0   13066.0\n",
       "25925  25926      05/17/2020  ...      0.0     198.0\n",
       "98006  98007      08/29/2020  ...    493.0   10795.0\n",
       "77026  77027      08/01/2020  ...   2566.0   68130.0\n",
       "\n",
       "[10 rows x 8 columns]"
      ]
     },
     "execution_count": 17,
     "metadata": {
      "tags": []
     },
     "output_type": "execute_result"
    }
   ],
   "source": [
    "df = pd.read_csv('covid_19.csv')\n",
    "df.sample(10)"
   ]
  },
  {
   "cell_type": "code",
   "execution_count": 4,
   "metadata": {
    "colab": {
     "base_uri": "https://localhost:8080/",
     "height": 187
    },
    "colab_type": "code",
    "id": "9XdGcmg3d3mB",
    "outputId": "2dc9fa94-65e2-47dd-e6f3-47c6dfbfc928"
   },
   "outputs": [
    {
     "name": "stdout",
     "output_type": "stream",
     "text": [
      "SNo                         int64\n",
      "ObservationDate    datetime64[ns]\n",
      "Province/State             object\n",
      "Country/Region             object\n",
      "Last Update                object\n",
      "Confirmed                 float64\n",
      "Deaths                    float64\n",
      "Recovered                 float64\n",
      "dtype: object\n",
      "['SNo', 'ObservationDate', 'Province/State', 'Country/Region', 'Last Update', 'Confirmed', 'Deaths', 'Recovered']\n"
     ]
    }
   ],
   "source": [
    "df['ObservationDate'] = pd.to_datetime(df['ObservationDate'])\n",
    "print(df.dtypes)\n",
    "print(list(df))"
   ]
  },
  {
   "cell_type": "code",
   "execution_count": 5,
   "metadata": {
    "colab": {
     "base_uri": "https://localhost:8080/",
     "height": 419
    },
    "colab_type": "code",
    "id": "EtNtzEz20h1n",
    "outputId": "cb36ad9d-ceb7-43b7-d969-2dd551f34e16"
   },
   "outputs": [
    {
     "data": {
      "text/html": [
       "<div>\n",
       "<style scoped>\n",
       "    .dataframe tbody tr th:only-of-type {\n",
       "        vertical-align: middle;\n",
       "    }\n",
       "\n",
       "    .dataframe tbody tr th {\n",
       "        vertical-align: top;\n",
       "    }\n",
       "\n",
       "    .dataframe thead th {\n",
       "        text-align: right;\n",
       "    }\n",
       "</style>\n",
       "<table border=\"1\" class=\"dataframe\">\n",
       "  <thead>\n",
       "    <tr style=\"text-align: right;\">\n",
       "      <th></th>\n",
       "      <th>ObservationDate</th>\n",
       "      <th>Country/Region</th>\n",
       "      <th>Confirmed</th>\n",
       "      <th>Deaths</th>\n",
       "      <th>Recovered</th>\n",
       "    </tr>\n",
       "  </thead>\n",
       "  <tbody>\n",
       "    <tr>\n",
       "      <th>0</th>\n",
       "      <td>2020-01-22</td>\n",
       "      <td>Mainland China</td>\n",
       "      <td>1.0</td>\n",
       "      <td>0.0</td>\n",
       "      <td>0.0</td>\n",
       "    </tr>\n",
       "    <tr>\n",
       "      <th>1</th>\n",
       "      <td>2020-01-22</td>\n",
       "      <td>Mainland China</td>\n",
       "      <td>14.0</td>\n",
       "      <td>0.0</td>\n",
       "      <td>0.0</td>\n",
       "    </tr>\n",
       "    <tr>\n",
       "      <th>2</th>\n",
       "      <td>2020-01-22</td>\n",
       "      <td>Mainland China</td>\n",
       "      <td>6.0</td>\n",
       "      <td>0.0</td>\n",
       "      <td>0.0</td>\n",
       "    </tr>\n",
       "    <tr>\n",
       "      <th>3</th>\n",
       "      <td>2020-01-22</td>\n",
       "      <td>Mainland China</td>\n",
       "      <td>1.0</td>\n",
       "      <td>0.0</td>\n",
       "      <td>0.0</td>\n",
       "    </tr>\n",
       "    <tr>\n",
       "      <th>4</th>\n",
       "      <td>2020-01-22</td>\n",
       "      <td>Mainland China</td>\n",
       "      <td>0.0</td>\n",
       "      <td>0.0</td>\n",
       "      <td>0.0</td>\n",
       "    </tr>\n",
       "    <tr>\n",
       "      <th>...</th>\n",
       "      <td>...</td>\n",
       "      <td>...</td>\n",
       "      <td>...</td>\n",
       "      <td>...</td>\n",
       "      <td>...</td>\n",
       "    </tr>\n",
       "    <tr>\n",
       "      <th>98247</th>\n",
       "      <td>2020-08-29</td>\n",
       "      <td>Ukraine</td>\n",
       "      <td>1520.0</td>\n",
       "      <td>25.0</td>\n",
       "      <td>883.0</td>\n",
       "    </tr>\n",
       "    <tr>\n",
       "      <th>98248</th>\n",
       "      <td>2020-08-29</td>\n",
       "      <td>Netherlands</td>\n",
       "      <td>1048.0</td>\n",
       "      <td>72.0</td>\n",
       "      <td>0.0</td>\n",
       "    </tr>\n",
       "    <tr>\n",
       "      <th>98249</th>\n",
       "      <td>2020-08-29</td>\n",
       "      <td>Mainland China</td>\n",
       "      <td>1277.0</td>\n",
       "      <td>1.0</td>\n",
       "      <td>1268.0</td>\n",
       "    </tr>\n",
       "    <tr>\n",
       "      <th>98250</th>\n",
       "      <td>2020-08-29</td>\n",
       "      <td>Ukraine</td>\n",
       "      <td>3155.0</td>\n",
       "      <td>61.0</td>\n",
       "      <td>1837.0</td>\n",
       "    </tr>\n",
       "    <tr>\n",
       "      <th>98251</th>\n",
       "      <td>2020-08-29</td>\n",
       "      <td>Netherlands</td>\n",
       "      <td>18774.0</td>\n",
       "      <td>1344.0</td>\n",
       "      <td>0.0</td>\n",
       "    </tr>\n",
       "  </tbody>\n",
       "</table>\n",
       "<p>98252 rows × 5 columns</p>\n",
       "</div>"
      ],
      "text/plain": [
       "      ObservationDate  Country/Region  Confirmed  Deaths  Recovered\n",
       "0          2020-01-22  Mainland China        1.0     0.0        0.0\n",
       "1          2020-01-22  Mainland China       14.0     0.0        0.0\n",
       "2          2020-01-22  Mainland China        6.0     0.0        0.0\n",
       "3          2020-01-22  Mainland China        1.0     0.0        0.0\n",
       "4          2020-01-22  Mainland China        0.0     0.0        0.0\n",
       "...               ...             ...        ...     ...        ...\n",
       "98247      2020-08-29         Ukraine     1520.0    25.0      883.0\n",
       "98248      2020-08-29     Netherlands     1048.0    72.0        0.0\n",
       "98249      2020-08-29  Mainland China     1277.0     1.0     1268.0\n",
       "98250      2020-08-29         Ukraine     3155.0    61.0     1837.0\n",
       "98251      2020-08-29     Netherlands    18774.0  1344.0        0.0\n",
       "\n",
       "[98252 rows x 5 columns]"
      ]
     },
     "execution_count": 5,
     "metadata": {},
     "output_type": "execute_result"
    }
   ],
   "source": [
    "df = df[['ObservationDate',\n",
    " 'Country/Region',\n",
    " 'Confirmed',\n",
    " 'Deaths',\n",
    " 'Recovered']]\n",
    "df"
   ]
  },
  {
   "cell_type": "code",
   "execution_count": 6,
   "metadata": {
    "colab": {
     "base_uri": "https://localhost:8080/",
     "height": 235
    },
    "colab_type": "code",
    "id": "Z4lE-7Ij0nJj",
    "outputId": "f05dcaf3-5bd9-42ba-fb9c-dc806dcb028b"
   },
   "outputs": [
    {
     "data": {
      "text/html": [
       "<div>\n",
       "<style scoped>\n",
       "    .dataframe tbody tr th:only-of-type {\n",
       "        vertical-align: middle;\n",
       "    }\n",
       "\n",
       "    .dataframe tbody tr th {\n",
       "        vertical-align: top;\n",
       "    }\n",
       "\n",
       "    .dataframe thead th {\n",
       "        text-align: right;\n",
       "    }\n",
       "</style>\n",
       "<table border=\"1\" class=\"dataframe\">\n",
       "  <thead>\n",
       "    <tr style=\"text-align: right;\">\n",
       "      <th></th>\n",
       "      <th>Confirmed</th>\n",
       "      <th>Deaths</th>\n",
       "      <th>Recovered</th>\n",
       "    </tr>\n",
       "    <tr>\n",
       "      <th>ObservationDate</th>\n",
       "      <th></th>\n",
       "      <th></th>\n",
       "      <th></th>\n",
       "    </tr>\n",
       "  </thead>\n",
       "  <tbody>\n",
       "    <tr>\n",
       "      <th>2020-01-22</th>\n",
       "      <td>555.0</td>\n",
       "      <td>17.0</td>\n",
       "      <td>28.0</td>\n",
       "    </tr>\n",
       "    <tr>\n",
       "      <th>2020-01-23</th>\n",
       "      <td>653.0</td>\n",
       "      <td>18.0</td>\n",
       "      <td>30.0</td>\n",
       "    </tr>\n",
       "    <tr>\n",
       "      <th>2020-01-24</th>\n",
       "      <td>941.0</td>\n",
       "      <td>26.0</td>\n",
       "      <td>36.0</td>\n",
       "    </tr>\n",
       "    <tr>\n",
       "      <th>2020-01-25</th>\n",
       "      <td>1438.0</td>\n",
       "      <td>42.0</td>\n",
       "      <td>39.0</td>\n",
       "    </tr>\n",
       "    <tr>\n",
       "      <th>2020-01-26</th>\n",
       "      <td>2118.0</td>\n",
       "      <td>56.0</td>\n",
       "      <td>52.0</td>\n",
       "    </tr>\n",
       "  </tbody>\n",
       "</table>\n",
       "</div>"
      ],
      "text/plain": [
       "                 Confirmed  Deaths  Recovered\n",
       "ObservationDate                              \n",
       "2020-01-22           555.0    17.0       28.0\n",
       "2020-01-23           653.0    18.0       30.0\n",
       "2020-01-24           941.0    26.0       36.0\n",
       "2020-01-25          1438.0    42.0       39.0\n",
       "2020-01-26          2118.0    56.0       52.0"
      ]
     },
     "execution_count": 6,
     "metadata": {},
     "output_type": "execute_result"
    }
   ],
   "source": [
    "df_time = df.groupby('ObservationDate').sum()    #conociendo el numero de casos cada dia\n",
    "df_time.head(5)"
   ]
  },
  {
   "cell_type": "code",
   "execution_count": 7,
   "metadata": {
    "colab": {
     "base_uri": "https://localhost:8080/",
     "height": 136
    },
    "colab_type": "code",
    "id": "K4xfhF6I00zr",
    "outputId": "55501044-caf1-477d-9be3-f391ff0a8ace"
   },
   "outputs": [
    {
     "data": {
      "text/plain": [
       "ObservationDate\n",
       "2020-02-01    12038.0\n",
       "2020-02-02    16787.0\n",
       "2020-02-03    19881.0\n",
       "2020-02-04    23892.0\n",
       "2020-02-05    27636.0\n",
       "Name: Confirmed, dtype: float64"
      ]
     },
     "execution_count": 7,
     "metadata": {},
     "output_type": "execute_result"
    }
   ],
   "source": [
    "df1 = df_time['Confirmed'].iloc[10:15]\n",
    "df1"
   ]
  },
  {
   "cell_type": "code",
   "execution_count": 8,
   "metadata": {
    "colab": {
     "base_uri": "https://localhost:8080/",
     "height": 136
    },
    "colab_type": "code",
    "id": "KMpHMqTM1DDy",
    "outputId": "64b38a58-c88b-4e21-d1f5-b0a51630fd15"
   },
   "outputs": [
    {
     "data": {
      "text/plain": [
       "ObservationDate\n",
       "2020-02-03    426.0\n",
       "2020-02-04    492.0\n",
       "2020-02-05    564.0\n",
       "2020-02-06    634.0\n",
       "2020-02-07    719.0\n",
       "Name: Deaths, dtype: float64"
      ]
     },
     "execution_count": 8,
     "metadata": {},
     "output_type": "execute_result"
    }
   ],
   "source": [
    "df2 = df_time['Deaths'].iloc[12:17]\n",
    "df2"
   ]
  },
  {
   "cell_type": "code",
   "execution_count": 9,
   "metadata": {
    "colab": {
     "base_uri": "https://localhost:8080/",
     "height": 170
    },
    "colab_type": "code",
    "id": "l3nU-XuK1EnB",
    "outputId": "f30fbe0d-f460-487c-8444-7b2cf336ab08"
   },
   "outputs": [
    {
     "data": {
      "text/plain": [
       "ObservationDate\n",
       "2020-02-01        NaN\n",
       "2020-02-02        NaN\n",
       "2020-02-03    19455.0\n",
       "2020-02-04    23400.0\n",
       "2020-02-05    27072.0\n",
       "2020-02-06        NaN\n",
       "2020-02-07        NaN\n",
       "dtype: float64"
      ]
     },
     "execution_count": 9,
     "metadata": {},
     "output_type": "execute_result"
    }
   ],
   "source": [
    "df1 - df2"
   ]
  },
  {
   "cell_type": "code",
   "execution_count": 10,
   "metadata": {
    "colab": {
     "base_uri": "https://localhost:8080/",
     "height": 450
    },
    "colab_type": "code",
    "id": "cfUNVCad1IDj",
    "outputId": "10e87f4f-ae92-4b84-f738-b83679cb45d9"
   },
   "outputs": [
    {
     "data": {
      "text/html": [
       "<div>\n",
       "<style scoped>\n",
       "    .dataframe tbody tr th:only-of-type {\n",
       "        vertical-align: middle;\n",
       "    }\n",
       "\n",
       "    .dataframe tbody tr th {\n",
       "        vertical-align: top;\n",
       "    }\n",
       "\n",
       "    .dataframe thead th {\n",
       "        text-align: right;\n",
       "    }\n",
       "</style>\n",
       "<table border=\"1\" class=\"dataframe\">\n",
       "  <thead>\n",
       "    <tr style=\"text-align: right;\">\n",
       "      <th></th>\n",
       "      <th>Confirmed</th>\n",
       "      <th>Deaths</th>\n",
       "      <th>Recovered</th>\n",
       "    </tr>\n",
       "    <tr>\n",
       "      <th>ObservationDate</th>\n",
       "      <th></th>\n",
       "      <th></th>\n",
       "      <th></th>\n",
       "    </tr>\n",
       "  </thead>\n",
       "  <tbody>\n",
       "    <tr>\n",
       "      <th>2020-01-22</th>\n",
       "      <td>555.0</td>\n",
       "      <td>17.0</td>\n",
       "      <td>28.0</td>\n",
       "    </tr>\n",
       "    <tr>\n",
       "      <th>2020-01-23</th>\n",
       "      <td>653.0</td>\n",
       "      <td>18.0</td>\n",
       "      <td>30.0</td>\n",
       "    </tr>\n",
       "    <tr>\n",
       "      <th>2020-01-24</th>\n",
       "      <td>941.0</td>\n",
       "      <td>26.0</td>\n",
       "      <td>36.0</td>\n",
       "    </tr>\n",
       "    <tr>\n",
       "      <th>2020-01-25</th>\n",
       "      <td>1438.0</td>\n",
       "      <td>42.0</td>\n",
       "      <td>39.0</td>\n",
       "    </tr>\n",
       "    <tr>\n",
       "      <th>2020-01-26</th>\n",
       "      <td>2118.0</td>\n",
       "      <td>56.0</td>\n",
       "      <td>52.0</td>\n",
       "    </tr>\n",
       "    <tr>\n",
       "      <th>...</th>\n",
       "      <td>...</td>\n",
       "      <td>...</td>\n",
       "      <td>...</td>\n",
       "    </tr>\n",
       "    <tr>\n",
       "      <th>2020-08-25</th>\n",
       "      <td>23889150.0</td>\n",
       "      <td>819414.0</td>\n",
       "      <td>15570191.0</td>\n",
       "    </tr>\n",
       "    <tr>\n",
       "      <th>2020-08-26</th>\n",
       "      <td>24176836.0</td>\n",
       "      <td>825696.0</td>\n",
       "      <td>15794441.0</td>\n",
       "    </tr>\n",
       "    <tr>\n",
       "      <th>2020-08-27</th>\n",
       "      <td>24452629.0</td>\n",
       "      <td>831586.0</td>\n",
       "      <td>15997281.0</td>\n",
       "    </tr>\n",
       "    <tr>\n",
       "      <th>2020-08-28</th>\n",
       "      <td>24734448.0</td>\n",
       "      <td>837124.0</td>\n",
       "      <td>16198165.0</td>\n",
       "    </tr>\n",
       "    <tr>\n",
       "      <th>2020-08-29</th>\n",
       "      <td>24996456.0</td>\n",
       "      <td>842499.0</td>\n",
       "      <td>16409757.0</td>\n",
       "    </tr>\n",
       "  </tbody>\n",
       "</table>\n",
       "<p>221 rows × 3 columns</p>\n",
       "</div>"
      ],
      "text/plain": [
       "                  Confirmed    Deaths   Recovered\n",
       "ObservationDate                                  \n",
       "2020-01-22            555.0      17.0        28.0\n",
       "2020-01-23            653.0      18.0        30.0\n",
       "2020-01-24            941.0      26.0        36.0\n",
       "2020-01-25           1438.0      42.0        39.0\n",
       "2020-01-26           2118.0      56.0        52.0\n",
       "...                     ...       ...         ...\n",
       "2020-08-25       23889150.0  819414.0  15570191.0\n",
       "2020-08-26       24176836.0  825696.0  15794441.0\n",
       "2020-08-27       24452629.0  831586.0  15997281.0\n",
       "2020-08-28       24734448.0  837124.0  16198165.0\n",
       "2020-08-29       24996456.0  842499.0  16409757.0\n",
       "\n",
       "[221 rows x 3 columns]"
      ]
     },
     "execution_count": 10,
     "metadata": {},
     "output_type": "execute_result"
    }
   ],
   "source": [
    "df_time"
   ]
  },
  {
   "cell_type": "markdown",
   "metadata": {
    "colab": {
     "base_uri": "https://localhost:8080/",
     "height": 266
    },
    "colab_type": "code",
    "id": "fCp3SaAmQK2o",
    "outputId": "a603bc10-5b59-4afa-ad0a-582c57c631ea"
   },
   "source": []
  },
  {
   "cell_type": "code",
   "execution_count": 11,
   "metadata": {
    "colab": {
     "base_uri": "https://localhost:8080/",
     "height": 34
    },
    "colab_type": "code",
    "id": "IGVL-VsQUVhT",
    "outputId": "0450611d-6a87-47d4-dd63-c784674df481"
   },
   "outputs": [
    {
     "data": {
      "text/plain": [
       "11.25"
      ]
     },
     "execution_count": 11,
     "metadata": {},
     "output_type": "execute_result"
    }
   ],
   "source": [
    "(34+11)/4"
   ]
  },
  {
   "cell_type": "markdown",
   "metadata": {
    "colab_type": "text",
    "id": "TqasxkRRe5a-"
   },
   "source": [
    "**Diff** resta cada dia con el dia previo"
   ]
  },
  {
   "cell_type": "code",
   "execution_count": 12,
   "metadata": {
    "colab": {
     "base_uri": "https://localhost:8080/",
     "height": 450
    },
    "colab_type": "code",
    "id": "NOwe8Okq1VyY",
    "outputId": "465e7dde-33bb-4666-93b1-ffd3680c35c3"
   },
   "outputs": [
    {
     "data": {
      "text/html": [
       "<div>\n",
       "<style scoped>\n",
       "    .dataframe tbody tr th:only-of-type {\n",
       "        vertical-align: middle;\n",
       "    }\n",
       "\n",
       "    .dataframe tbody tr th {\n",
       "        vertical-align: top;\n",
       "    }\n",
       "\n",
       "    .dataframe thead th {\n",
       "        text-align: right;\n",
       "    }\n",
       "</style>\n",
       "<table border=\"1\" class=\"dataframe\">\n",
       "  <thead>\n",
       "    <tr style=\"text-align: right;\">\n",
       "      <th></th>\n",
       "      <th>Confirmed</th>\n",
       "      <th>Deaths</th>\n",
       "      <th>Recovered</th>\n",
       "    </tr>\n",
       "    <tr>\n",
       "      <th>ObservationDate</th>\n",
       "      <th></th>\n",
       "      <th></th>\n",
       "      <th></th>\n",
       "    </tr>\n",
       "  </thead>\n",
       "  <tbody>\n",
       "    <tr>\n",
       "      <th>2020-01-22</th>\n",
       "      <td>NaN</td>\n",
       "      <td>NaN</td>\n",
       "      <td>NaN</td>\n",
       "    </tr>\n",
       "    <tr>\n",
       "      <th>2020-01-23</th>\n",
       "      <td>98.0</td>\n",
       "      <td>1.0</td>\n",
       "      <td>2.0</td>\n",
       "    </tr>\n",
       "    <tr>\n",
       "      <th>2020-01-24</th>\n",
       "      <td>288.0</td>\n",
       "      <td>8.0</td>\n",
       "      <td>6.0</td>\n",
       "    </tr>\n",
       "    <tr>\n",
       "      <th>2020-01-25</th>\n",
       "      <td>497.0</td>\n",
       "      <td>16.0</td>\n",
       "      <td>3.0</td>\n",
       "    </tr>\n",
       "    <tr>\n",
       "      <th>2020-01-26</th>\n",
       "      <td>680.0</td>\n",
       "      <td>14.0</td>\n",
       "      <td>13.0</td>\n",
       "    </tr>\n",
       "    <tr>\n",
       "      <th>...</th>\n",
       "      <td>...</td>\n",
       "      <td>...</td>\n",
       "      <td>...</td>\n",
       "    </tr>\n",
       "    <tr>\n",
       "      <th>2020-08-25</th>\n",
       "      <td>241773.0</td>\n",
       "      <td>6392.0</td>\n",
       "      <td>232939.0</td>\n",
       "    </tr>\n",
       "    <tr>\n",
       "      <th>2020-08-26</th>\n",
       "      <td>287686.0</td>\n",
       "      <td>6282.0</td>\n",
       "      <td>224250.0</td>\n",
       "    </tr>\n",
       "    <tr>\n",
       "      <th>2020-08-27</th>\n",
       "      <td>275793.0</td>\n",
       "      <td>5890.0</td>\n",
       "      <td>202840.0</td>\n",
       "    </tr>\n",
       "    <tr>\n",
       "      <th>2020-08-28</th>\n",
       "      <td>281819.0</td>\n",
       "      <td>5538.0</td>\n",
       "      <td>200884.0</td>\n",
       "    </tr>\n",
       "    <tr>\n",
       "      <th>2020-08-29</th>\n",
       "      <td>262008.0</td>\n",
       "      <td>5375.0</td>\n",
       "      <td>211592.0</td>\n",
       "    </tr>\n",
       "  </tbody>\n",
       "</table>\n",
       "<p>221 rows × 3 columns</p>\n",
       "</div>"
      ],
      "text/plain": [
       "                 Confirmed  Deaths  Recovered\n",
       "ObservationDate                              \n",
       "2020-01-22             NaN     NaN        NaN\n",
       "2020-01-23            98.0     1.0        2.0\n",
       "2020-01-24           288.0     8.0        6.0\n",
       "2020-01-25           497.0    16.0        3.0\n",
       "2020-01-26           680.0    14.0       13.0\n",
       "...                    ...     ...        ...\n",
       "2020-08-25        241773.0  6392.0   232939.0\n",
       "2020-08-26        287686.0  6282.0   224250.0\n",
       "2020-08-27        275793.0  5890.0   202840.0\n",
       "2020-08-28        281819.0  5538.0   200884.0\n",
       "2020-08-29        262008.0  5375.0   211592.0\n",
       "\n",
       "[221 rows x 3 columns]"
      ]
     },
     "execution_count": 12,
     "metadata": {},
     "output_type": "execute_result"
    }
   ],
   "source": [
    "df_diff = df_time.diff()     #muestra el aumento de casos de cada dia.\n",
    "df_diff"
   ]
  },
  {
   "cell_type": "code",
   "execution_count": 13,
   "metadata": {
    "colab": {
     "base_uri": "https://localhost:8080/",
     "height": 85
    },
    "colab_type": "code",
    "id": "N_k-KbMo1OMC",
    "outputId": "c167ba5b-28d0-4f23-86dd-9d07ebd30e4f"
   },
   "outputs": [
    {
     "data": {
      "text/plain": [
       "Confirmed    113617.731818\n",
       "Deaths         3829.463636\n",
       "Recovered     74589.677273\n",
       "dtype: float64"
      ]
     },
     "execution_count": 13,
     "metadata": {},
     "output_type": "execute_result"
    }
   ],
   "source": [
    "df_time.diff().mean()         #número  promedio de confirmados, muertes y recovered al dia"
   ]
  },
  {
   "cell_type": "markdown",
   "metadata": {
    "colab_type": "text",
    "id": "7etSfqVBfhA3"
   },
   "source": [
    "Nótese que tenemos un valor nulo en la primera fila del DataFrame y esto es debido a que la observacion 1 no tiene con quien restarse"
   ]
  },
  {
   "cell_type": "code",
   "execution_count": 14,
   "metadata": {
    "colab": {
     "base_uri": "https://localhost:8080/",
     "height": 68
    },
    "colab_type": "code",
    "id": "iS4znkZ41l25",
    "outputId": "71c40c00-078a-46af-9291-77edcf61b0bd"
   },
   "outputs": [
    {
     "data": {
      "text/plain": [
       "{'Confirmed': {Timestamp('2020-01-22 00:00:00'): 555.0},\n",
       " 'Deaths': {Timestamp('2020-01-22 00:00:00'): 17.0},\n",
       " 'Recovered': {Timestamp('2020-01-22 00:00:00'): 28.0}}"
      ]
     },
     "execution_count": 14,
     "metadata": {},
     "output_type": "execute_result"
    }
   ],
   "source": [
    "df_time.head(1).to_dict()     #to_dict me genera un diccionario de una observacion en este caso"
   ]
  },
  {
   "cell_type": "code",
   "execution_count": 15,
   "metadata": {
    "colab": {},
    "colab_type": "code",
    "id": "FBXVgusl1dwJ"
   },
   "outputs": [],
   "source": [
    "df_diff = df_diff.fillna({'Confirmed': 555.0,\n",
    " 'Deaths': 17.0,\n",
    " 'Recovered': 28.0})     #esta línea es para remplazar la primera fila por los valores anteriormente especificados"
   ]
  },
  {
   "cell_type": "code",
   "execution_count": 16,
   "metadata": {
    "colab": {
     "base_uri": "https://localhost:8080/",
     "height": 450
    },
    "colab_type": "code",
    "id": "pyfSlB6I5PIu",
    "outputId": "59ec5548-c288-403c-f1b0-4552898c384d"
   },
   "outputs": [
    {
     "data": {
      "text/html": [
       "<div>\n",
       "<style scoped>\n",
       "    .dataframe tbody tr th:only-of-type {\n",
       "        vertical-align: middle;\n",
       "    }\n",
       "\n",
       "    .dataframe tbody tr th {\n",
       "        vertical-align: top;\n",
       "    }\n",
       "\n",
       "    .dataframe thead th {\n",
       "        text-align: right;\n",
       "    }\n",
       "</style>\n",
       "<table border=\"1\" class=\"dataframe\">\n",
       "  <thead>\n",
       "    <tr style=\"text-align: right;\">\n",
       "      <th></th>\n",
       "      <th>Confirmed</th>\n",
       "      <th>Deaths</th>\n",
       "      <th>Recovered</th>\n",
       "    </tr>\n",
       "    <tr>\n",
       "      <th>ObservationDate</th>\n",
       "      <th></th>\n",
       "      <th></th>\n",
       "      <th></th>\n",
       "    </tr>\n",
       "  </thead>\n",
       "  <tbody>\n",
       "    <tr>\n",
       "      <th>2020-01-22</th>\n",
       "      <td>555.0</td>\n",
       "      <td>17.0</td>\n",
       "      <td>28.0</td>\n",
       "    </tr>\n",
       "    <tr>\n",
       "      <th>2020-01-23</th>\n",
       "      <td>653.0</td>\n",
       "      <td>18.0</td>\n",
       "      <td>30.0</td>\n",
       "    </tr>\n",
       "    <tr>\n",
       "      <th>2020-01-24</th>\n",
       "      <td>941.0</td>\n",
       "      <td>26.0</td>\n",
       "      <td>36.0</td>\n",
       "    </tr>\n",
       "    <tr>\n",
       "      <th>2020-01-25</th>\n",
       "      <td>1438.0</td>\n",
       "      <td>42.0</td>\n",
       "      <td>39.0</td>\n",
       "    </tr>\n",
       "    <tr>\n",
       "      <th>2020-01-26</th>\n",
       "      <td>2118.0</td>\n",
       "      <td>56.0</td>\n",
       "      <td>52.0</td>\n",
       "    </tr>\n",
       "    <tr>\n",
       "      <th>...</th>\n",
       "      <td>...</td>\n",
       "      <td>...</td>\n",
       "      <td>...</td>\n",
       "    </tr>\n",
       "    <tr>\n",
       "      <th>2020-08-25</th>\n",
       "      <td>23889150.0</td>\n",
       "      <td>819414.0</td>\n",
       "      <td>15570191.0</td>\n",
       "    </tr>\n",
       "    <tr>\n",
       "      <th>2020-08-26</th>\n",
       "      <td>24176836.0</td>\n",
       "      <td>825696.0</td>\n",
       "      <td>15794441.0</td>\n",
       "    </tr>\n",
       "    <tr>\n",
       "      <th>2020-08-27</th>\n",
       "      <td>24452629.0</td>\n",
       "      <td>831586.0</td>\n",
       "      <td>15997281.0</td>\n",
       "    </tr>\n",
       "    <tr>\n",
       "      <th>2020-08-28</th>\n",
       "      <td>24734448.0</td>\n",
       "      <td>837124.0</td>\n",
       "      <td>16198165.0</td>\n",
       "    </tr>\n",
       "    <tr>\n",
       "      <th>2020-08-29</th>\n",
       "      <td>24996456.0</td>\n",
       "      <td>842499.0</td>\n",
       "      <td>16409757.0</td>\n",
       "    </tr>\n",
       "  </tbody>\n",
       "</table>\n",
       "<p>221 rows × 3 columns</p>\n",
       "</div>"
      ],
      "text/plain": [
       "                  Confirmed    Deaths   Recovered\n",
       "ObservationDate                                  \n",
       "2020-01-22            555.0      17.0        28.0\n",
       "2020-01-23            653.0      18.0        30.0\n",
       "2020-01-24            941.0      26.0        36.0\n",
       "2020-01-25           1438.0      42.0        39.0\n",
       "2020-01-26           2118.0      56.0        52.0\n",
       "...                     ...       ...         ...\n",
       "2020-08-25       23889150.0  819414.0  15570191.0\n",
       "2020-08-26       24176836.0  825696.0  15794441.0\n",
       "2020-08-27       24452629.0  831586.0  15997281.0\n",
       "2020-08-28       24734448.0  837124.0  16198165.0\n",
       "2020-08-29       24996456.0  842499.0  16409757.0\n",
       "\n",
       "[221 rows x 3 columns]"
      ]
     },
     "execution_count": 16,
     "metadata": {},
     "output_type": "execute_result"
    }
   ],
   "source": [
    "df_diff.cumsum()               #muestra la suma acumulativa"
   ]
  },
  {
   "cell_type": "markdown",
   "metadata": {
    "colab_type": "text",
    "id": "6-YgwxzMgT0e"
   },
   "source": [
    " ## Filtrar por mes, año en datetime\n",
    " \n",
    " A continuación se sumará dependiendo del valor categorizado, en este sentido cada mes."
   ]
  },
  {
   "cell_type": "code",
   "execution_count": 17,
   "metadata": {
    "colab": {
     "base_uri": "https://localhost:8080/",
     "height": 328
    },
    "colab_type": "code",
    "id": "2dKYASws5ZR7",
    "outputId": "d544c840-0d51-4d51-93ab-1d61cb3df6ea"
   },
   "outputs": [
    {
     "data": {
      "text/html": [
       "<div>\n",
       "<style scoped>\n",
       "    .dataframe tbody tr th:only-of-type {\n",
       "        vertical-align: middle;\n",
       "    }\n",
       "\n",
       "    .dataframe tbody tr th {\n",
       "        vertical-align: top;\n",
       "    }\n",
       "\n",
       "    .dataframe thead th {\n",
       "        text-align: right;\n",
       "    }\n",
       "</style>\n",
       "<table border=\"1\" class=\"dataframe\">\n",
       "  <thead>\n",
       "    <tr style=\"text-align: right;\">\n",
       "      <th></th>\n",
       "      <th>Confirmed</th>\n",
       "      <th>Deaths</th>\n",
       "      <th>Recovered</th>\n",
       "    </tr>\n",
       "    <tr>\n",
       "      <th>ObservationDate</th>\n",
       "      <th></th>\n",
       "      <th></th>\n",
       "      <th></th>\n",
       "    </tr>\n",
       "  </thead>\n",
       "  <tbody>\n",
       "    <tr>\n",
       "      <th>2020-01-31</th>\n",
       "      <td>9925.0</td>\n",
       "      <td>213.0</td>\n",
       "      <td>222.0</td>\n",
       "    </tr>\n",
       "    <tr>\n",
       "      <th>2020-02-29</th>\n",
       "      <td>76088.0</td>\n",
       "      <td>2728.0</td>\n",
       "      <td>39560.0</td>\n",
       "    </tr>\n",
       "    <tr>\n",
       "      <th>2020-03-31</th>\n",
       "      <td>771474.0</td>\n",
       "      <td>39166.0</td>\n",
       "      <td>138246.0</td>\n",
       "    </tr>\n",
       "    <tr>\n",
       "      <th>2020-04-30</th>\n",
       "      <td>2399359.0</td>\n",
       "      <td>191281.0</td>\n",
       "      <td>836725.0</td>\n",
       "    </tr>\n",
       "    <tr>\n",
       "      <th>2020-05-31</th>\n",
       "      <td>2910100.0</td>\n",
       "      <td>138647.0</td>\n",
       "      <td>1626576.0</td>\n",
       "    </tr>\n",
       "    <tr>\n",
       "      <th>2020-06-30</th>\n",
       "      <td>4308892.0</td>\n",
       "      <td>139218.0</td>\n",
       "      <td>2711943.0</td>\n",
       "    </tr>\n",
       "    <tr>\n",
       "      <th>2020-07-31</th>\n",
       "      <td>7123998.0</td>\n",
       "      <td>168247.0</td>\n",
       "      <td>5015868.0</td>\n",
       "    </tr>\n",
       "    <tr>\n",
       "      <th>2020-08-31</th>\n",
       "      <td>7396620.0</td>\n",
       "      <td>162999.0</td>\n",
       "      <td>6040617.0</td>\n",
       "    </tr>\n",
       "  </tbody>\n",
       "</table>\n",
       "</div>"
      ],
      "text/plain": [
       "                 Confirmed    Deaths  Recovered\n",
       "ObservationDate                                \n",
       "2020-01-31          9925.0     213.0      222.0\n",
       "2020-02-29         76088.0    2728.0    39560.0\n",
       "2020-03-31        771474.0   39166.0   138246.0\n",
       "2020-04-30       2399359.0  191281.0   836725.0\n",
       "2020-05-31       2910100.0  138647.0  1626576.0\n",
       "2020-06-30       4308892.0  139218.0  2711943.0\n",
       "2020-07-31       7123998.0  168247.0  5015868.0\n",
       "2020-08-31       7396620.0  162999.0  6040617.0"
      ]
     },
     "execution_count": 17,
     "metadata": {},
     "output_type": "execute_result"
    }
   ],
   "source": [
    "df_diff.resample('M').sum()                  #      '7D' :cada 7dias ,       'W-Sun' :cada domingo,       'M' :cada mes"
   ]
  },
  {
   "cell_type": "code",
   "execution_count": 18,
   "metadata": {
    "colab": {
     "base_uri": "https://localhost:8080/",
     "height": 328
    },
    "colab_type": "code",
    "id": "GqJdiLPi5m6r",
    "outputId": "92d9b569-9398-40dc-e748-1be3ff93fc3e"
   },
   "outputs": [
    {
     "data": {
      "text/html": [
       "<div>\n",
       "<style scoped>\n",
       "    .dataframe tbody tr th:only-of-type {\n",
       "        vertical-align: middle;\n",
       "    }\n",
       "\n",
       "    .dataframe tbody tr th {\n",
       "        vertical-align: top;\n",
       "    }\n",
       "\n",
       "    .dataframe thead th {\n",
       "        text-align: right;\n",
       "    }\n",
       "</style>\n",
       "<table border=\"1\" class=\"dataframe\">\n",
       "  <thead>\n",
       "    <tr style=\"text-align: right;\">\n",
       "      <th></th>\n",
       "      <th>Confirmed</th>\n",
       "      <th>Deaths</th>\n",
       "      <th>Recovered</th>\n",
       "    </tr>\n",
       "    <tr>\n",
       "      <th>ObservationDate</th>\n",
       "      <th></th>\n",
       "      <th></th>\n",
       "      <th></th>\n",
       "    </tr>\n",
       "  </thead>\n",
       "  <tbody>\n",
       "    <tr>\n",
       "      <th>2020-01-31</th>\n",
       "      <td>10</td>\n",
       "      <td>10</td>\n",
       "      <td>10</td>\n",
       "    </tr>\n",
       "    <tr>\n",
       "      <th>2020-02-29</th>\n",
       "      <td>29</td>\n",
       "      <td>29</td>\n",
       "      <td>29</td>\n",
       "    </tr>\n",
       "    <tr>\n",
       "      <th>2020-03-31</th>\n",
       "      <td>31</td>\n",
       "      <td>31</td>\n",
       "      <td>31</td>\n",
       "    </tr>\n",
       "    <tr>\n",
       "      <th>2020-04-30</th>\n",
       "      <td>30</td>\n",
       "      <td>30</td>\n",
       "      <td>30</td>\n",
       "    </tr>\n",
       "    <tr>\n",
       "      <th>2020-05-31</th>\n",
       "      <td>31</td>\n",
       "      <td>31</td>\n",
       "      <td>31</td>\n",
       "    </tr>\n",
       "    <tr>\n",
       "      <th>2020-06-30</th>\n",
       "      <td>30</td>\n",
       "      <td>30</td>\n",
       "      <td>30</td>\n",
       "    </tr>\n",
       "    <tr>\n",
       "      <th>2020-07-31</th>\n",
       "      <td>31</td>\n",
       "      <td>31</td>\n",
       "      <td>31</td>\n",
       "    </tr>\n",
       "    <tr>\n",
       "      <th>2020-08-31</th>\n",
       "      <td>29</td>\n",
       "      <td>29</td>\n",
       "      <td>29</td>\n",
       "    </tr>\n",
       "  </tbody>\n",
       "</table>\n",
       "</div>"
      ],
      "text/plain": [
       "                 Confirmed  Deaths  Recovered\n",
       "ObservationDate                              \n",
       "2020-01-31              10      10         10\n",
       "2020-02-29              29      29         29\n",
       "2020-03-31              31      31         31\n",
       "2020-04-30              30      30         30\n",
       "2020-05-31              31      31         31\n",
       "2020-06-30              30      30         30\n",
       "2020-07-31              31      31         31\n",
       "2020-08-31              29      29         29"
      ]
     },
     "execution_count": 18,
     "metadata": {},
     "output_type": "execute_result"
    }
   ],
   "source": [
    "df_diff.resample('M').count()"
   ]
  },
  {
   "cell_type": "code",
   "execution_count": 19,
   "metadata": {
    "colab": {
     "base_uri": "https://localhost:8080/",
     "height": 175
    },
    "colab_type": "code",
    "id": "yxX5evhR517c",
    "outputId": "c661de23-1893-4f7a-ee6a-ce98006b25d4"
   },
   "outputs": [
    {
     "data": {
      "text/html": [
       "<div>\n",
       "<style scoped>\n",
       "    .dataframe tbody tr th:only-of-type {\n",
       "        vertical-align: middle;\n",
       "    }\n",
       "\n",
       "    .dataframe tbody tr th {\n",
       "        vertical-align: top;\n",
       "    }\n",
       "\n",
       "    .dataframe thead th {\n",
       "        text-align: right;\n",
       "    }\n",
       "</style>\n",
       "<table border=\"1\" class=\"dataframe\">\n",
       "  <thead>\n",
       "    <tr style=\"text-align: right;\">\n",
       "      <th></th>\n",
       "      <th>Confirmed</th>\n",
       "      <th>Deaths</th>\n",
       "      <th>Recovered</th>\n",
       "    </tr>\n",
       "    <tr>\n",
       "      <th>ObservationDate</th>\n",
       "      <th></th>\n",
       "      <th></th>\n",
       "      <th></th>\n",
       "    </tr>\n",
       "  </thead>\n",
       "  <tbody>\n",
       "    <tr>\n",
       "      <th>2020-01-31</th>\n",
       "      <td>992.500000</td>\n",
       "      <td>21.300000</td>\n",
       "      <td>22.200000</td>\n",
       "    </tr>\n",
       "    <tr>\n",
       "      <th>2020-02-29</th>\n",
       "      <td>2623.724138</td>\n",
       "      <td>94.068966</td>\n",
       "      <td>1364.137931</td>\n",
       "    </tr>\n",
       "    <tr>\n",
       "      <th>2020-03-31</th>\n",
       "      <td>24886.258065</td>\n",
       "      <td>1263.419355</td>\n",
       "      <td>4459.548387</td>\n",
       "    </tr>\n",
       "    <tr>\n",
       "      <th>2020-04-30</th>\n",
       "      <td>79978.633333</td>\n",
       "      <td>6376.033333</td>\n",
       "      <td>27890.833333</td>\n",
       "    </tr>\n",
       "    <tr>\n",
       "      <th>2020-05-31</th>\n",
       "      <td>93874.193548</td>\n",
       "      <td>4472.483871</td>\n",
       "      <td>52470.193548</td>\n",
       "    </tr>\n",
       "    <tr>\n",
       "      <th>2020-06-30</th>\n",
       "      <td>143629.733333</td>\n",
       "      <td>4640.600000</td>\n",
       "      <td>90398.100000</td>\n",
       "    </tr>\n",
       "    <tr>\n",
       "      <th>2020-07-31</th>\n",
       "      <td>229806.387097</td>\n",
       "      <td>5427.322581</td>\n",
       "      <td>161802.193548</td>\n",
       "    </tr>\n",
       "    <tr>\n",
       "      <th>2020-08-31</th>\n",
       "      <td>255055.862069</td>\n",
       "      <td>5620.655172</td>\n",
       "      <td>208297.137931</td>\n",
       "    </tr>\n",
       "  </tbody>\n",
       "</table>\n",
       "</div>"
      ],
      "text/plain": [
       "                     Confirmed       Deaths      Recovered\n",
       "ObservationDate                                           \n",
       "2020-01-31          992.500000    21.300000      22.200000\n",
       "2020-02-29         2623.724138    94.068966    1364.137931\n",
       "2020-03-31        24886.258065  1263.419355    4459.548387\n",
       "2020-04-30        79978.633333  6376.033333   27890.833333\n",
       "2020-05-31        93874.193548  4472.483871   52470.193548\n",
       "2020-06-30       143629.733333  4640.600000   90398.100000\n",
       "2020-07-31       229806.387097  5427.322581  161802.193548\n",
       "2020-08-31       255055.862069  5620.655172  208297.137931"
      ]
     },
     "execution_count": 19,
     "metadata": {},
     "output_type": "execute_result"
    }
   ],
   "source": [
    "df_diff.resample('M').mean()"
   ]
  },
  {
   "cell_type": "code",
   "execution_count": 20,
   "metadata": {
    "colab": {
     "base_uri": "https://localhost:8080/",
     "height": 455
    },
    "colab_type": "code",
    "id": "5nTAmItL8PAm",
    "outputId": "7ed6ed2f-dd9f-4ec1-ed86-a5b8c3f9dcc7"
   },
   "outputs": [
    {
     "data": {
      "text/html": [
       "<div>\n",
       "<style scoped>\n",
       "    .dataframe tbody tr th:only-of-type {\n",
       "        vertical-align: middle;\n",
       "    }\n",
       "\n",
       "    .dataframe tbody tr th {\n",
       "        vertical-align: top;\n",
       "    }\n",
       "\n",
       "    .dataframe thead th {\n",
       "        text-align: right;\n",
       "    }\n",
       "</style>\n",
       "<table border=\"1\" class=\"dataframe\">\n",
       "  <thead>\n",
       "    <tr style=\"text-align: right;\">\n",
       "      <th></th>\n",
       "      <th>Confirmed</th>\n",
       "      <th>Deaths</th>\n",
       "      <th>Recovered</th>\n",
       "    </tr>\n",
       "    <tr>\n",
       "      <th>ObservationDate</th>\n",
       "      <th></th>\n",
       "      <th></th>\n",
       "      <th></th>\n",
       "    </tr>\n",
       "  </thead>\n",
       "  <tbody>\n",
       "    <tr>\n",
       "      <th>2020-01-22 00:00:00</th>\n",
       "      <td>555.0</td>\n",
       "      <td>17.0</td>\n",
       "      <td>28.0</td>\n",
       "    </tr>\n",
       "    <tr>\n",
       "      <th>2020-01-22 12:00:00</th>\n",
       "      <td>NaN</td>\n",
       "      <td>NaN</td>\n",
       "      <td>NaN</td>\n",
       "    </tr>\n",
       "    <tr>\n",
       "      <th>2020-01-23 00:00:00</th>\n",
       "      <td>653.0</td>\n",
       "      <td>18.0</td>\n",
       "      <td>30.0</td>\n",
       "    </tr>\n",
       "    <tr>\n",
       "      <th>2020-01-23 12:00:00</th>\n",
       "      <td>NaN</td>\n",
       "      <td>NaN</td>\n",
       "      <td>NaN</td>\n",
       "    </tr>\n",
       "    <tr>\n",
       "      <th>2020-01-24 00:00:00</th>\n",
       "      <td>941.0</td>\n",
       "      <td>26.0</td>\n",
       "      <td>36.0</td>\n",
       "    </tr>\n",
       "    <tr>\n",
       "      <th>...</th>\n",
       "      <td>...</td>\n",
       "      <td>...</td>\n",
       "      <td>...</td>\n",
       "    </tr>\n",
       "    <tr>\n",
       "      <th>2020-08-27 00:00:00</th>\n",
       "      <td>24452629.0</td>\n",
       "      <td>831586.0</td>\n",
       "      <td>15997281.0</td>\n",
       "    </tr>\n",
       "    <tr>\n",
       "      <th>2020-08-27 12:00:00</th>\n",
       "      <td>NaN</td>\n",
       "      <td>NaN</td>\n",
       "      <td>NaN</td>\n",
       "    </tr>\n",
       "    <tr>\n",
       "      <th>2020-08-28 00:00:00</th>\n",
       "      <td>24734448.0</td>\n",
       "      <td>837124.0</td>\n",
       "      <td>16198165.0</td>\n",
       "    </tr>\n",
       "    <tr>\n",
       "      <th>2020-08-28 12:00:00</th>\n",
       "      <td>NaN</td>\n",
       "      <td>NaN</td>\n",
       "      <td>NaN</td>\n",
       "    </tr>\n",
       "    <tr>\n",
       "      <th>2020-08-29 00:00:00</th>\n",
       "      <td>24996456.0</td>\n",
       "      <td>842499.0</td>\n",
       "      <td>16409757.0</td>\n",
       "    </tr>\n",
       "  </tbody>\n",
       "</table>\n",
       "<p>441 rows × 3 columns</p>\n",
       "</div>"
      ],
      "text/plain": [
       "                      Confirmed    Deaths   Recovered\n",
       "ObservationDate                                      \n",
       "2020-01-22 00:00:00       555.0      17.0        28.0\n",
       "2020-01-22 12:00:00         NaN       NaN         NaN\n",
       "2020-01-23 00:00:00       653.0      18.0        30.0\n",
       "2020-01-23 12:00:00         NaN       NaN         NaN\n",
       "2020-01-24 00:00:00       941.0      26.0        36.0\n",
       "...                         ...       ...         ...\n",
       "2020-08-27 00:00:00  24452629.0  831586.0  15997281.0\n",
       "2020-08-27 12:00:00         NaN       NaN         NaN\n",
       "2020-08-28 00:00:00  24734448.0  837124.0  16198165.0\n",
       "2020-08-28 12:00:00         NaN       NaN         NaN\n",
       "2020-08-29 00:00:00  24996456.0  842499.0  16409757.0\n",
       "\n",
       "[441 rows x 3 columns]"
      ]
     },
     "execution_count": 20,
     "metadata": {},
     "output_type": "execute_result"
    }
   ],
   "source": [
    "df_cum = df_time.resample('12h').sum(min_count=1)     #Analizando con frecuencia de 12horas,       min_count=1 : con almenos un elemento\n",
    "df_cum"
   ]
  },
  {
   "cell_type": "markdown",
   "metadata": {},
   "source": [
    "Una forma de interpolar es mediante: \n",
    "\n",
    "* **_df_cum.bfill_**: Extrae el elemento siguiente del valor que estaba nulo y lo remplaza. \n",
    "* **_df_cum.fillna_**: Extrae el elemento previo para poder remplazar. \n",
    "* **_df_cum.fillna(-1000)_**: Permite remplazar los valores nulos por -1000."
   ]
  },
  {
   "cell_type": "code",
   "execution_count": 21,
   "metadata": {
    "colab": {
     "base_uri": "https://localhost:8080/",
     "height": 455
    },
    "colab_type": "code",
    "id": "ems3aWck-GkQ",
    "outputId": "e12899ec-8c33-4d51-ace2-8ab8c8ceed10"
   },
   "outputs": [
    {
     "data": {
      "text/html": [
       "<div>\n",
       "<style scoped>\n",
       "    .dataframe tbody tr th:only-of-type {\n",
       "        vertical-align: middle;\n",
       "    }\n",
       "\n",
       "    .dataframe tbody tr th {\n",
       "        vertical-align: top;\n",
       "    }\n",
       "\n",
       "    .dataframe thead th {\n",
       "        text-align: right;\n",
       "    }\n",
       "</style>\n",
       "<table border=\"1\" class=\"dataframe\">\n",
       "  <thead>\n",
       "    <tr style=\"text-align: right;\">\n",
       "      <th></th>\n",
       "      <th>Confirmed</th>\n",
       "      <th>Deaths</th>\n",
       "      <th>Recovered</th>\n",
       "    </tr>\n",
       "    <tr>\n",
       "      <th>ObservationDate</th>\n",
       "      <th></th>\n",
       "      <th></th>\n",
       "      <th></th>\n",
       "    </tr>\n",
       "  </thead>\n",
       "  <tbody>\n",
       "    <tr>\n",
       "      <th>2020-01-22 00:00:00</th>\n",
       "      <td>555.0</td>\n",
       "      <td>17.0</td>\n",
       "      <td>28.0</td>\n",
       "    </tr>\n",
       "    <tr>\n",
       "      <th>2020-01-22 12:00:00</th>\n",
       "      <td>604.0</td>\n",
       "      <td>17.5</td>\n",
       "      <td>29.0</td>\n",
       "    </tr>\n",
       "    <tr>\n",
       "      <th>2020-01-23 00:00:00</th>\n",
       "      <td>653.0</td>\n",
       "      <td>18.0</td>\n",
       "      <td>30.0</td>\n",
       "    </tr>\n",
       "    <tr>\n",
       "      <th>2020-01-23 12:00:00</th>\n",
       "      <td>797.0</td>\n",
       "      <td>22.0</td>\n",
       "      <td>33.0</td>\n",
       "    </tr>\n",
       "    <tr>\n",
       "      <th>2020-01-24 00:00:00</th>\n",
       "      <td>941.0</td>\n",
       "      <td>26.0</td>\n",
       "      <td>36.0</td>\n",
       "    </tr>\n",
       "    <tr>\n",
       "      <th>...</th>\n",
       "      <td>...</td>\n",
       "      <td>...</td>\n",
       "      <td>...</td>\n",
       "    </tr>\n",
       "    <tr>\n",
       "      <th>2020-08-27 00:00:00</th>\n",
       "      <td>24452629.0</td>\n",
       "      <td>831586.0</td>\n",
       "      <td>15997281.0</td>\n",
       "    </tr>\n",
       "    <tr>\n",
       "      <th>2020-08-27 12:00:00</th>\n",
       "      <td>24593538.5</td>\n",
       "      <td>834355.0</td>\n",
       "      <td>16097723.0</td>\n",
       "    </tr>\n",
       "    <tr>\n",
       "      <th>2020-08-28 00:00:00</th>\n",
       "      <td>24734448.0</td>\n",
       "      <td>837124.0</td>\n",
       "      <td>16198165.0</td>\n",
       "    </tr>\n",
       "    <tr>\n",
       "      <th>2020-08-28 12:00:00</th>\n",
       "      <td>24865452.0</td>\n",
       "      <td>839811.5</td>\n",
       "      <td>16303961.0</td>\n",
       "    </tr>\n",
       "    <tr>\n",
       "      <th>2020-08-29 00:00:00</th>\n",
       "      <td>24996456.0</td>\n",
       "      <td>842499.0</td>\n",
       "      <td>16409757.0</td>\n",
       "    </tr>\n",
       "  </tbody>\n",
       "</table>\n",
       "<p>441 rows × 3 columns</p>\n",
       "</div>"
      ],
      "text/plain": [
       "                      Confirmed    Deaths   Recovered\n",
       "ObservationDate                                      \n",
       "2020-01-22 00:00:00       555.0      17.0        28.0\n",
       "2020-01-22 12:00:00       604.0      17.5        29.0\n",
       "2020-01-23 00:00:00       653.0      18.0        30.0\n",
       "2020-01-23 12:00:00       797.0      22.0        33.0\n",
       "2020-01-24 00:00:00       941.0      26.0        36.0\n",
       "...                         ...       ...         ...\n",
       "2020-08-27 00:00:00  24452629.0  831586.0  15997281.0\n",
       "2020-08-27 12:00:00  24593538.5  834355.0  16097723.0\n",
       "2020-08-28 00:00:00  24734448.0  837124.0  16198165.0\n",
       "2020-08-28 12:00:00  24865452.0  839811.5  16303961.0\n",
       "2020-08-29 00:00:00  24996456.0  842499.0  16409757.0\n",
       "\n",
       "[441 rows x 3 columns]"
      ]
     },
     "execution_count": 21,
     "metadata": {},
     "output_type": "execute_result"
    }
   ],
   "source": [
    "df_cum = df_cum.interpolate()            # coloca un valor medio entre los registros diarios  \n",
    "df_cum"
   ]
  },
  {
   "cell_type": "markdown",
   "metadata": {},
   "source": [
    "---\n",
    "## Tasa de supervivencia al coronavirus"
   ]
  },
  {
   "cell_type": "code",
   "execution_count": 22,
   "metadata": {
    "colab": {},
    "colab_type": "code",
    "id": "DDOO8UdG_sLp"
   },
   "outputs": [],
   "source": [
    "df_cum['rate'] = 1 - df_cum['Deaths']/df_cum['Confirmed']         #Genera una nueva columna que es la tasa de supervivencia del coronavirus"
   ]
  },
  {
   "cell_type": "markdown",
   "metadata": {},
   "source": [
    "---\n",
    "## Extrayendo resultados donde los indices no es datatime   ---- Uso de Groupper"
   ]
  },
  {
   "cell_type": "code",
   "execution_count": 23,
   "metadata": {
    "colab": {
     "base_uri": "https://localhost:8080/",
     "height": 424
    },
    "colab_type": "code",
    "id": "zRYLnHNc_t5G",
    "outputId": "d6d750a6-a4c9-4edf-9f79-758108c9fa7a"
   },
   "outputs": [
    {
     "data": {
      "text/html": [
       "<div>\n",
       "<style scoped>\n",
       "    .dataframe tbody tr th:only-of-type {\n",
       "        vertical-align: middle;\n",
       "    }\n",
       "\n",
       "    .dataframe tbody tr th {\n",
       "        vertical-align: top;\n",
       "    }\n",
       "\n",
       "    .dataframe thead th {\n",
       "        text-align: right;\n",
       "    }\n",
       "</style>\n",
       "<table border=\"1\" class=\"dataframe\">\n",
       "  <thead>\n",
       "    <tr style=\"text-align: right;\">\n",
       "      <th></th>\n",
       "      <th>ObservationDate</th>\n",
       "      <th>Confirmed</th>\n",
       "      <th>Deaths</th>\n",
       "      <th>Recovered</th>\n",
       "      <th>rate</th>\n",
       "    </tr>\n",
       "  </thead>\n",
       "  <tbody>\n",
       "    <tr>\n",
       "      <th>0</th>\n",
       "      <td>2020-01-22 00:00:00</td>\n",
       "      <td>555.0</td>\n",
       "      <td>17.0</td>\n",
       "      <td>28.0</td>\n",
       "      <td>0.969369</td>\n",
       "    </tr>\n",
       "    <tr>\n",
       "      <th>1</th>\n",
       "      <td>2020-01-22 12:00:00</td>\n",
       "      <td>604.0</td>\n",
       "      <td>17.5</td>\n",
       "      <td>29.0</td>\n",
       "      <td>0.971026</td>\n",
       "    </tr>\n",
       "    <tr>\n",
       "      <th>2</th>\n",
       "      <td>2020-01-23 00:00:00</td>\n",
       "      <td>653.0</td>\n",
       "      <td>18.0</td>\n",
       "      <td>30.0</td>\n",
       "      <td>0.972435</td>\n",
       "    </tr>\n",
       "    <tr>\n",
       "      <th>3</th>\n",
       "      <td>2020-01-23 12:00:00</td>\n",
       "      <td>797.0</td>\n",
       "      <td>22.0</td>\n",
       "      <td>33.0</td>\n",
       "      <td>0.972396</td>\n",
       "    </tr>\n",
       "    <tr>\n",
       "      <th>4</th>\n",
       "      <td>2020-01-24 00:00:00</td>\n",
       "      <td>941.0</td>\n",
       "      <td>26.0</td>\n",
       "      <td>36.0</td>\n",
       "      <td>0.972370</td>\n",
       "    </tr>\n",
       "    <tr>\n",
       "      <th>...</th>\n",
       "      <td>...</td>\n",
       "      <td>...</td>\n",
       "      <td>...</td>\n",
       "      <td>...</td>\n",
       "      <td>...</td>\n",
       "    </tr>\n",
       "    <tr>\n",
       "      <th>436</th>\n",
       "      <td>2020-08-27 00:00:00</td>\n",
       "      <td>24452629.0</td>\n",
       "      <td>831586.0</td>\n",
       "      <td>15997281.0</td>\n",
       "      <td>0.965992</td>\n",
       "    </tr>\n",
       "    <tr>\n",
       "      <th>437</th>\n",
       "      <td>2020-08-27 12:00:00</td>\n",
       "      <td>24593538.5</td>\n",
       "      <td>834355.0</td>\n",
       "      <td>16097723.0</td>\n",
       "      <td>0.966074</td>\n",
       "    </tr>\n",
       "    <tr>\n",
       "      <th>438</th>\n",
       "      <td>2020-08-28 00:00:00</td>\n",
       "      <td>24734448.0</td>\n",
       "      <td>837124.0</td>\n",
       "      <td>16198165.0</td>\n",
       "      <td>0.966156</td>\n",
       "    </tr>\n",
       "    <tr>\n",
       "      <th>439</th>\n",
       "      <td>2020-08-28 12:00:00</td>\n",
       "      <td>24865452.0</td>\n",
       "      <td>839811.5</td>\n",
       "      <td>16303961.0</td>\n",
       "      <td>0.966226</td>\n",
       "    </tr>\n",
       "    <tr>\n",
       "      <th>440</th>\n",
       "      <td>2020-08-29 00:00:00</td>\n",
       "      <td>24996456.0</td>\n",
       "      <td>842499.0</td>\n",
       "      <td>16409757.0</td>\n",
       "      <td>0.966295</td>\n",
       "    </tr>\n",
       "  </tbody>\n",
       "</table>\n",
       "<p>441 rows × 5 columns</p>\n",
       "</div>"
      ],
      "text/plain": [
       "        ObservationDate   Confirmed    Deaths   Recovered      rate\n",
       "0   2020-01-22 00:00:00       555.0      17.0        28.0  0.969369\n",
       "1   2020-01-22 12:00:00       604.0      17.5        29.0  0.971026\n",
       "2   2020-01-23 00:00:00       653.0      18.0        30.0  0.972435\n",
       "3   2020-01-23 12:00:00       797.0      22.0        33.0  0.972396\n",
       "4   2020-01-24 00:00:00       941.0      26.0        36.0  0.972370\n",
       "..                  ...         ...       ...         ...       ...\n",
       "436 2020-08-27 00:00:00  24452629.0  831586.0  15997281.0  0.965992\n",
       "437 2020-08-27 12:00:00  24593538.5  834355.0  16097723.0  0.966074\n",
       "438 2020-08-28 00:00:00  24734448.0  837124.0  16198165.0  0.966156\n",
       "439 2020-08-28 12:00:00  24865452.0  839811.5  16303961.0  0.966226\n",
       "440 2020-08-29 00:00:00  24996456.0  842499.0  16409757.0  0.966295\n",
       "\n",
       "[441 rows x 5 columns]"
      ]
     },
     "execution_count": 23,
     "metadata": {},
     "output_type": "execute_result"
    }
   ],
   "source": [
    "df_cum = df_cum.reset_index()\n",
    "df_cum"
   ]
  },
  {
   "cell_type": "code",
   "execution_count": 24,
   "metadata": {
    "colab": {
     "base_uri": "https://localhost:8080/",
     "height": 175
    },
    "colab_type": "code",
    "id": "cruYKtvv_4FX",
    "outputId": "1159328a-7d2a-49bd-c9e9-e53f154dd696"
   },
   "outputs": [
    {
     "data": {
      "text/html": [
       "<div>\n",
       "<style scoped>\n",
       "    .dataframe tbody tr th:only-of-type {\n",
       "        vertical-align: middle;\n",
       "    }\n",
       "\n",
       "    .dataframe tbody tr th {\n",
       "        vertical-align: top;\n",
       "    }\n",
       "\n",
       "    .dataframe thead th {\n",
       "        text-align: right;\n",
       "    }\n",
       "</style>\n",
       "<table border=\"1\" class=\"dataframe\">\n",
       "  <thead>\n",
       "    <tr style=\"text-align: right;\">\n",
       "      <th></th>\n",
       "      <th>rate</th>\n",
       "    </tr>\n",
       "    <tr>\n",
       "      <th>ObservationDate</th>\n",
       "      <th></th>\n",
       "    </tr>\n",
       "  </thead>\n",
       "  <tbody>\n",
       "    <tr>\n",
       "      <th>2020-01-31</th>\n",
       "      <td>0.974594</td>\n",
       "    </tr>\n",
       "    <tr>\n",
       "      <th>2020-02-29</th>\n",
       "      <td>0.973562</td>\n",
       "    </tr>\n",
       "    <tr>\n",
       "      <th>2020-03-31</th>\n",
       "      <td>0.960070</td>\n",
       "    </tr>\n",
       "    <tr>\n",
       "      <th>2020-04-30</th>\n",
       "      <td>0.936029</td>\n",
       "    </tr>\n",
       "    <tr>\n",
       "      <th>2020-05-31</th>\n",
       "      <td>0.933422</td>\n",
       "    </tr>\n",
       "    <tr>\n",
       "      <th>2020-06-30</th>\n",
       "      <td>0.945713</td>\n",
       "    </tr>\n",
       "    <tr>\n",
       "      <th>2020-07-31</th>\n",
       "      <td>0.957037</td>\n",
       "    </tr>\n",
       "    <tr>\n",
       "      <th>2020-08-31</th>\n",
       "      <td>0.964106</td>\n",
       "    </tr>\n",
       "  </tbody>\n",
       "</table>\n",
       "</div>"
      ],
      "text/plain": [
       "                     rate\n",
       "ObservationDate          \n",
       "2020-01-31       0.974594\n",
       "2020-02-29       0.973562\n",
       "2020-03-31       0.960070\n",
       "2020-04-30       0.936029\n",
       "2020-05-31       0.933422\n",
       "2020-06-30       0.945713\n",
       "2020-07-31       0.957037\n",
       "2020-08-31       0.964106"
      ]
     },
     "execution_count": 24,
     "metadata": {},
     "output_type": "execute_result"
    }
   ],
   "source": [
    "df_cum.groupby(pd.Grouper(key='ObservationDate', freq = 'M'))[['rate']].mean()"
   ]
  },
  {
   "cell_type": "markdown",
   "metadata": {},
   "source": [
    "A continuación se muestra como se ha comportado la tasa de supervivencia a lo largo del tiempo."
   ]
  },
  {
   "cell_type": "code",
   "execution_count": 25,
   "metadata": {
    "colab": {
     "base_uri": "https://localhost:8080/",
     "height": 333
    },
    "colab_type": "code",
    "id": "C8tbhpheAmRm",
    "outputId": "1cf007de-fa66-4227-c08a-676c054dd826"
   },
   "outputs": [
    {
     "data": {
      "text/plain": [
       "<AxesSubplot:xlabel='ObservationDate'>"
      ]
     },
     "execution_count": 25,
     "metadata": {},
     "output_type": "execute_result"
    },
    {
     "data": {
      "image/png": "[encoded data removed]",
      "text/plain": [
       "<Figure size 432x288 with 1 Axes>"
      ]
     },
     "metadata": {
      "needs_background": "light"
     },
     "output_type": "display_data"
    }
   ],
   "source": [
    "sr = df_cum.groupby(pd.Grouper(key='ObservationDate', freq = '1D'))['rate'].mean()\n",
    "sr.plot()"
   ]
  },
  {
   "cell_type": "code",
   "execution_count": 35,
   "metadata": {
    "colab": {
     "base_uri": "https://localhost:8080/",
     "height": 333
    },
    "colab_type": "code",
    "id": "vUCwKhWkBt40",
    "outputId": "8126d6cf-c772-4e23-ab4b-f8535b97cd4f"
   },
   "outputs": [
    {
     "data": {
      "text/plain": [
       "<AxesSubplot:xlabel='ObservationDate'>"
      ]
     },
     "execution_count": 35,
     "metadata": {},
     "output_type": "execute_result"
    },
    {
     "data": {
      "image/png": "[encoded data removed]",
      "text/plain": [
       "<Figure size 432x288 with 1 Axes>"
      ]
     },
     "metadata": {
      "needs_background": "light"
     },
     "output_type": "display_data"
    }
   ],
   "source": [
    "sr.plot()\n",
    "sr.rolling(window=7).mean().plot()               #rolling me permite hacer promedios con ventanas de frecuencias, aqui de 7dias  (intervalos de 7 y 14 dias)\n",
    "sr.rolling(window=14).mean().plot()"
   ]
  },
  {
   "cell_type": "markdown",
   "metadata": {},
   "source": [
    "Se puede observar que al aumentar la ventana, la curva se comienza a suavizar. Miremos como ha ido evolucionando la desviacion estandar de la tasa de supervivencia."
   ]
  },
  {
   "cell_type": "code",
   "execution_count": 36,
   "metadata": {
    "colab": {},
    "colab_type": "code",
    "id": "ee6ZmzxkCNaO"
   },
   "outputs": [],
   "source": [
    "import numpy as np"
   ]
  },
  {
   "cell_type": "code",
   "execution_count": 37,
   "metadata": {
    "colab": {
     "base_uri": "https://localhost:8080/",
     "height": 332
    },
    "colab_type": "code",
    "id": "ZX-jGaMSB0SF",
    "outputId": "be61f370-d3ba-4e1a-ccab-74932d1d0bb1"
   },
   "outputs": [
    {
     "data": {
      "text/plain": [
       "<AxesSubplot:xlabel='ObservationDate'>"
      ]
     },
     "execution_count": 37,
     "metadata": {},
     "output_type": "execute_result"
    },
    {
     "data": {
      "image/png": "[encoded data removed]",
      "text/plain": [
       "<Figure size 432x288 with 1 Axes>"
      ]
     },
     "metadata": {
      "needs_background": "light"
     },
     "output_type": "display_data"
    }
   ],
   "source": [
    "sr.rolling(window=14).apply(lambda x: np.std(x)).plot()"
   ]
  },
  {
   "cell_type": "markdown",
   "metadata": {
    "colab_type": "text",
    "id": "PQMyl79Up4e2"
   },
   "source": [
    "---\n",
    "## ¿Cuál es el pais con mayor número de contagios?"
   ]
  },
  {
   "cell_type": "code",
   "execution_count": 38,
   "metadata": {},
   "outputs": [
    {
     "data": {
      "text/html": [
       "<div>\n",
       "<style scoped>\n",
       "    .dataframe tbody tr th:only-of-type {\n",
       "        vertical-align: middle;\n",
       "    }\n",
       "\n",
       "    .dataframe tbody tr th {\n",
       "        vertical-align: top;\n",
       "    }\n",
       "\n",
       "    .dataframe thead th {\n",
       "        text-align: right;\n",
       "    }\n",
       "</style>\n",
       "<table border=\"1\" class=\"dataframe\">\n",
       "  <thead>\n",
       "    <tr style=\"text-align: right;\">\n",
       "      <th></th>\n",
       "      <th>ObservationDate</th>\n",
       "      <th>Country/Region</th>\n",
       "      <th>Confirmed</th>\n",
       "      <th>Deaths</th>\n",
       "      <th>Recovered</th>\n",
       "    </tr>\n",
       "  </thead>\n",
       "  <tbody>\n",
       "    <tr>\n",
       "      <th>83804</th>\n",
       "      <td>2020-08-10</td>\n",
       "      <td>Russia</td>\n",
       "      <td>7469.0</td>\n",
       "      <td>56.0</td>\n",
       "      <td>6175.0</td>\n",
       "    </tr>\n",
       "    <tr>\n",
       "      <th>96962</th>\n",
       "      <td>2020-08-28</td>\n",
       "      <td>Peru</td>\n",
       "      <td>2539.0</td>\n",
       "      <td>61.0</td>\n",
       "      <td>0.0</td>\n",
       "    </tr>\n",
       "    <tr>\n",
       "      <th>43974</th>\n",
       "      <td>2020-06-17</td>\n",
       "      <td>Spain</td>\n",
       "      <td>17845.0</td>\n",
       "      <td>2945.0</td>\n",
       "      <td>6392.0</td>\n",
       "    </tr>\n",
       "    <tr>\n",
       "      <th>47683</th>\n",
       "      <td>2020-06-22</td>\n",
       "      <td>US</td>\n",
       "      <td>65928.0</td>\n",
       "      <td>2648.0</td>\n",
       "      <td>0.0</td>\n",
       "    </tr>\n",
       "    <tr>\n",
       "      <th>11889</th>\n",
       "      <td>2020-04-04</td>\n",
       "      <td>Mainland China</td>\n",
       "      <td>18.0</td>\n",
       "      <td>0.0</td>\n",
       "      <td>18.0</td>\n",
       "    </tr>\n",
       "    <tr>\n",
       "      <th>34527</th>\n",
       "      <td>2020-06-03</td>\n",
       "      <td>Japan</td>\n",
       "      <td>65.0</td>\n",
       "      <td>1.0</td>\n",
       "      <td>59.0</td>\n",
       "    </tr>\n",
       "  </tbody>\n",
       "</table>\n",
       "</div>"
      ],
      "text/plain": [
       "      ObservationDate  Country/Region  Confirmed  Deaths  Recovered\n",
       "83804      2020-08-10          Russia     7469.0    56.0     6175.0\n",
       "96962      2020-08-28            Peru     2539.0    61.0        0.0\n",
       "43974      2020-06-17           Spain    17845.0  2945.0     6392.0\n",
       "47683      2020-06-22              US    65928.0  2648.0        0.0\n",
       "11889      2020-04-04  Mainland China       18.0     0.0       18.0\n",
       "34527      2020-06-03           Japan       65.0     1.0       59.0"
      ]
     },
     "execution_count": 38,
     "metadata": {},
     "output_type": "execute_result"
    }
   ],
   "source": [
    "df.sample(6)"
   ]
  },
  {
   "cell_type": "code",
   "execution_count": 28,
   "metadata": {
    "colab": {
     "base_uri": "https://localhost:8080/",
     "height": 254
    },
    "colab_type": "code",
    "id": "xsUpV8B5CMun",
    "outputId": "20b5f000-3a15-4fd2-9df9-ddcd1b354f69"
   },
   "outputs": [
    {
     "data": {
      "text/plain": [
       "Country/Region\n",
       "Brazil          801422.0\n",
       "India           764281.0\n",
       "US              702038.0\n",
       "South Africa    622551.0\n",
       "Russia          405843.0\n",
       "                  ...   \n",
       "Gibraltar            1.0\n",
       "Greenland            1.0\n",
       "The Bahamas          1.0\n",
       "The Gambia           1.0\n",
       " Azerbaijan          1.0\n",
       "Name: Confirmed, Length: 223, dtype: float64"
      ]
     },
     "execution_count": 28,
     "metadata": {},
     "output_type": "execute_result"
    }
   ],
   "source": [
    "df.groupby('Country/Region')['Confirmed'].max().sort_values(ascending=False)"
   ]
  },
  {
   "cell_type": "markdown",
   "metadata": {},
   "source": [
    "Anteriormente se puede identificar que el país con mayor númerod e contagios es **Brasil**"
   ]
  },
  {
   "cell_type": "code",
   "execution_count": 29,
   "metadata": {
    "colab": {
     "base_uri": "https://localhost:8080/",
     "height": 35
    },
    "colab_type": "code",
    "id": "bSmlZp8-Enkg",
    "outputId": "2e020e55-3fe7-42b2-f91c-6df9378e0ec2"
   },
   "outputs": [
    {
     "data": {
      "text/plain": [
       "['ObservationDate', 'Country/Region', 'Confirmed', 'Deaths', 'Recovered']"
      ]
     },
     "execution_count": 29,
     "metadata": {},
     "output_type": "execute_result"
    }
   ],
   "source": [
    "list(df)"
   ]
  },
  {
   "cell_type": "code",
   "execution_count": 30,
   "metadata": {
    "colab": {
     "base_uri": "https://localhost:8080/",
     "height": 455
    },
    "colab_type": "code",
    "id": "PKj8mJWKDKYW",
    "outputId": "5280fdfb-ff20-49f4-ef2f-5647e8b3a212"
   },
   "outputs": [
    {
     "data": {
      "text/html": [
       "<div>\n",
       "<style scoped>\n",
       "    .dataframe tbody tr th:only-of-type {\n",
       "        vertical-align: middle;\n",
       "    }\n",
       "\n",
       "    .dataframe tbody tr th {\n",
       "        vertical-align: top;\n",
       "    }\n",
       "\n",
       "    .dataframe thead th {\n",
       "        text-align: right;\n",
       "    }\n",
       "</style>\n",
       "<table border=\"1\" class=\"dataframe\">\n",
       "  <thead>\n",
       "    <tr style=\"text-align: right;\">\n",
       "      <th></th>\n",
       "      <th></th>\n",
       "      <th>Confirmed</th>\n",
       "      <th>Deaths</th>\n",
       "      <th>Recovered</th>\n",
       "    </tr>\n",
       "    <tr>\n",
       "      <th>Country/Region</th>\n",
       "      <th>ObservationDate</th>\n",
       "      <th></th>\n",
       "      <th></th>\n",
       "      <th></th>\n",
       "    </tr>\n",
       "  </thead>\n",
       "  <tbody>\n",
       "    <tr>\n",
       "      <th>Azerbaijan</th>\n",
       "      <th>2020-02-28</th>\n",
       "      <td>1.0</td>\n",
       "      <td>0.0</td>\n",
       "      <td>0.0</td>\n",
       "    </tr>\n",
       "    <tr>\n",
       "      <th>('St. Martin',)</th>\n",
       "      <th>2020-03-10</th>\n",
       "      <td>2.0</td>\n",
       "      <td>0.0</td>\n",
       "      <td>0.0</td>\n",
       "    </tr>\n",
       "    <tr>\n",
       "      <th rowspan=\"3\" valign=\"top\">Afghanistan</th>\n",
       "      <th>2020-02-24</th>\n",
       "      <td>1.0</td>\n",
       "      <td>0.0</td>\n",
       "      <td>0.0</td>\n",
       "    </tr>\n",
       "    <tr>\n",
       "      <th>2020-02-25</th>\n",
       "      <td>1.0</td>\n",
       "      <td>0.0</td>\n",
       "      <td>0.0</td>\n",
       "    </tr>\n",
       "    <tr>\n",
       "      <th>2020-02-26</th>\n",
       "      <td>1.0</td>\n",
       "      <td>0.0</td>\n",
       "      <td>0.0</td>\n",
       "    </tr>\n",
       "    <tr>\n",
       "      <th>...</th>\n",
       "      <th>...</th>\n",
       "      <td>...</td>\n",
       "      <td>...</td>\n",
       "      <td>...</td>\n",
       "    </tr>\n",
       "    <tr>\n",
       "      <th rowspan=\"5\" valign=\"top\">occupied Palestinian territory</th>\n",
       "      <th>2020-03-12</th>\n",
       "      <td>0.0</td>\n",
       "      <td>0.0</td>\n",
       "      <td>0.0</td>\n",
       "    </tr>\n",
       "    <tr>\n",
       "      <th>2020-03-14</th>\n",
       "      <td>0.0</td>\n",
       "      <td>0.0</td>\n",
       "      <td>0.0</td>\n",
       "    </tr>\n",
       "    <tr>\n",
       "      <th>2020-03-15</th>\n",
       "      <td>0.0</td>\n",
       "      <td>0.0</td>\n",
       "      <td>0.0</td>\n",
       "    </tr>\n",
       "    <tr>\n",
       "      <th>2020-03-16</th>\n",
       "      <td>0.0</td>\n",
       "      <td>0.0</td>\n",
       "      <td>0.0</td>\n",
       "    </tr>\n",
       "    <tr>\n",
       "      <th>2020-03-17</th>\n",
       "      <td>0.0</td>\n",
       "      <td>0.0</td>\n",
       "      <td>0.0</td>\n",
       "    </tr>\n",
       "  </tbody>\n",
       "</table>\n",
       "<p>34081 rows × 3 columns</p>\n",
       "</div>"
      ],
      "text/plain": [
       "                                                Confirmed  Deaths  Recovered\n",
       "Country/Region                 ObservationDate                              \n",
       " Azerbaijan                    2020-02-28             1.0     0.0        0.0\n",
       "('St. Martin',)                2020-03-10             2.0     0.0        0.0\n",
       "Afghanistan                    2020-02-24             1.0     0.0        0.0\n",
       "                               2020-02-25             1.0     0.0        0.0\n",
       "                               2020-02-26             1.0     0.0        0.0\n",
       "...                                                   ...     ...        ...\n",
       "occupied Palestinian territory 2020-03-12             0.0     0.0        0.0\n",
       "                               2020-03-14             0.0     0.0        0.0\n",
       "                               2020-03-15             0.0     0.0        0.0\n",
       "                               2020-03-16             0.0     0.0        0.0\n",
       "                               2020-03-17             0.0     0.0        0.0\n",
       "\n",
       "[34081 rows x 3 columns]"
      ]
     },
     "execution_count": 30,
     "metadata": {},
     "output_type": "execute_result"
    }
   ],
   "source": [
    "df_time = df.groupby(['Country/Region',\n",
    "            pd.Grouper(key='ObservationDate',freq='1D')]).sum()\n",
    "df_time"
   ]
  },
  {
   "cell_type": "markdown",
   "metadata": {},
   "source": [
    "Trabajemos con China que es el país donde inició el brote de contagios del coronavirus:"
   ]
  },
  {
   "cell_type": "code",
   "execution_count": 31,
   "metadata": {
    "colab": {},
    "colab_type": "code",
    "id": "cQoiEONNEvOl"
   },
   "outputs": [],
   "source": [
    "df_china = df_time.loc['Mainland China',:]  #solo China"
   ]
  },
  {
   "cell_type": "code",
   "execution_count": 40,
   "metadata": {
    "colab": {
     "base_uri": "https://localhost:8080/",
     "height": 1000
    },
    "colab_type": "code",
    "id": "oR_kVaI7Fcgf",
    "outputId": "a85c07c3-2495-4f34-f663-943c5db07de8"
   },
   "outputs": [
    {
     "data": {
      "text/html": [
       "<div>\n",
       "<style scoped>\n",
       "    .dataframe tbody tr th:only-of-type {\n",
       "        vertical-align: middle;\n",
       "    }\n",
       "\n",
       "    .dataframe tbody tr th {\n",
       "        vertical-align: top;\n",
       "    }\n",
       "\n",
       "    .dataframe thead th {\n",
       "        text-align: right;\n",
       "    }\n",
       "</style>\n",
       "<table border=\"1\" class=\"dataframe\">\n",
       "  <thead>\n",
       "    <tr style=\"text-align: right;\">\n",
       "      <th></th>\n",
       "      <th>Confirmed</th>\n",
       "      <th>Deaths</th>\n",
       "      <th>Recovered</th>\n",
       "    </tr>\n",
       "    <tr>\n",
       "      <th>ObservationDate</th>\n",
       "      <th></th>\n",
       "      <th></th>\n",
       "      <th></th>\n",
       "    </tr>\n",
       "  </thead>\n",
       "  <tbody>\n",
       "    <tr>\n",
       "      <th>2020-01-22</th>\n",
       "      <td>547.0</td>\n",
       "      <td>17.0</td>\n",
       "      <td>28.0</td>\n",
       "    </tr>\n",
       "    <tr>\n",
       "      <th>2020-01-23</th>\n",
       "      <td>639.0</td>\n",
       "      <td>18.0</td>\n",
       "      <td>30.0</td>\n",
       "    </tr>\n",
       "    <tr>\n",
       "      <th>2020-01-24</th>\n",
       "      <td>916.0</td>\n",
       "      <td>26.0</td>\n",
       "      <td>36.0</td>\n",
       "    </tr>\n",
       "    <tr>\n",
       "      <th>2020-01-25</th>\n",
       "      <td>1399.0</td>\n",
       "      <td>42.0</td>\n",
       "      <td>39.0</td>\n",
       "    </tr>\n",
       "    <tr>\n",
       "      <th>2020-01-26</th>\n",
       "      <td>2062.0</td>\n",
       "      <td>56.0</td>\n",
       "      <td>49.0</td>\n",
       "    </tr>\n",
       "    <tr>\n",
       "      <th>...</th>\n",
       "      <td>...</td>\n",
       "      <td>...</td>\n",
       "      <td>...</td>\n",
       "    </tr>\n",
       "    <tr>\n",
       "      <th>2020-08-25</th>\n",
       "      <td>84996.0</td>\n",
       "      <td>4634.0</td>\n",
       "      <td>80014.0</td>\n",
       "    </tr>\n",
       "    <tr>\n",
       "      <th>2020-08-26</th>\n",
       "      <td>85004.0</td>\n",
       "      <td>4634.0</td>\n",
       "      <td>80044.0</td>\n",
       "    </tr>\n",
       "    <tr>\n",
       "      <th>2020-08-27</th>\n",
       "      <td>85013.0</td>\n",
       "      <td>4634.0</td>\n",
       "      <td>80089.0</td>\n",
       "    </tr>\n",
       "    <tr>\n",
       "      <th>2020-08-28</th>\n",
       "      <td>85022.0</td>\n",
       "      <td>4634.0</td>\n",
       "      <td>80124.0</td>\n",
       "    </tr>\n",
       "    <tr>\n",
       "      <th>2020-08-29</th>\n",
       "      <td>85031.0</td>\n",
       "      <td>4634.0</td>\n",
       "      <td>80151.0</td>\n",
       "    </tr>\n",
       "  </tbody>\n",
       "</table>\n",
       "<p>221 rows × 3 columns</p>\n",
       "</div>"
      ],
      "text/plain": [
       "                 Confirmed  Deaths  Recovered\n",
       "ObservationDate                              \n",
       "2020-01-22           547.0    17.0       28.0\n",
       "2020-01-23           639.0    18.0       30.0\n",
       "2020-01-24           916.0    26.0       36.0\n",
       "2020-01-25          1399.0    42.0       39.0\n",
       "2020-01-26          2062.0    56.0       49.0\n",
       "...                    ...     ...        ...\n",
       "2020-08-25         84996.0  4634.0    80014.0\n",
       "2020-08-26         85004.0  4634.0    80044.0\n",
       "2020-08-27         85013.0  4634.0    80089.0\n",
       "2020-08-28         85022.0  4634.0    80124.0\n",
       "2020-08-29         85031.0  4634.0    80151.0\n",
       "\n",
       "[221 rows x 3 columns]"
      ]
     },
     "execution_count": 40,
     "metadata": {},
     "output_type": "execute_result"
    }
   ],
   "source": [
    "df_china    #DataFrame quew solo contiene los datos de China"
   ]
  },
  {
   "cell_type": "code",
   "execution_count": 41,
   "metadata": {
    "colab": {},
    "colab_type": "code",
    "id": "2INPjh6qFo5h"
   },
   "outputs": [],
   "source": [
    "import matplotlib.pyplot as plt"
   ]
  },
  {
   "cell_type": "code",
   "execution_count": 42,
   "metadata": {
    "colab": {
     "base_uri": "https://localhost:8080/",
     "height": 493
    },
    "colab_type": "code",
    "id": "kJwg70p5FdUO",
    "outputId": "21b710ad-c32e-4529-fa55-92835dfa13f2"
   },
   "outputs": [
    {
     "data": {
      "image/png": "[encoded data removed]",
      "text/plain": [
       "<Figure size 720x504 with 1 Axes>"
      ]
     },
     "metadata": {
      "needs_background": "light"
     },
     "output_type": "display_data"
    }
   ],
   "source": [
    "df_china.plot(figsize = (10,7), title = 'CODV-19')    #figsize = (10,7)   : tamaño de la gráfica\n",
    "plt.xlabel('Date')                                     #colocando nombre a los ejes\n",
    "plt.ylabel('People')\n",
    "plt.show()"
   ]
  },
  {
   "cell_type": "code",
   "execution_count": 43,
   "metadata": {
    "colab": {
     "base_uri": "https://localhost:8080/",
     "height": 493
    },
    "colab_type": "code",
    "id": "APKkYSslFkIW",
    "outputId": "df6226f0-564d-45eb-8e68-82d9fb20180a"
   },
   "outputs": [
    {
     "data": {
      "image/png": "[encoded data removed]",
      "text/plain": [
       "<Figure size 720x504 with 1 Axes>"
      ]
     },
     "metadata": {
      "needs_background": "light"
     },
     "output_type": "display_data"
    }
   ],
   "source": [
    "ax = df_china.plot(figsize = (10,7), title = 'CODV-19',\n",
    "              legend = False,\n",
    "              style = ['r-','g--','b:*'])     #r-: rojo y linea continua       # g--: verde y linea punteada     #b:* : Azul y figuras de estrellas  \n",
    "ax.legend(['1','dos','3'])\n",
    "plt.xlabel('Date')\n",
    "plt.ylabel('People')\n",
    "plt.show()"
   ]
  },
  {
   "cell_type": "code",
   "execution_count": 44,
   "metadata": {
    "colab": {
     "base_uri": "https://localhost:8080/",
     "height": 175
    },
    "colab_type": "code",
    "id": "IRmBtLOnGIMs",
    "outputId": "47f01d8e-dbda-44cd-8b6b-5874c8a88f9b"
   },
   "outputs": [
    {
     "data": {
      "text/html": [
       "<div>\n",
       "<style scoped>\n",
       "    .dataframe tbody tr th:only-of-type {\n",
       "        vertical-align: middle;\n",
       "    }\n",
       "\n",
       "    .dataframe tbody tr th {\n",
       "        vertical-align: top;\n",
       "    }\n",
       "\n",
       "    .dataframe thead th {\n",
       "        text-align: right;\n",
       "    }\n",
       "</style>\n",
       "<table border=\"1\" class=\"dataframe\">\n",
       "  <thead>\n",
       "    <tr style=\"text-align: right;\">\n",
       "      <th></th>\n",
       "      <th>Confirmed</th>\n",
       "      <th>Deaths</th>\n",
       "      <th>Recovered</th>\n",
       "    </tr>\n",
       "    <tr>\n",
       "      <th>ObservationDate</th>\n",
       "      <th></th>\n",
       "      <th></th>\n",
       "      <th></th>\n",
       "    </tr>\n",
       "  </thead>\n",
       "  <tbody>\n",
       "    <tr>\n",
       "      <th>2020-01-31</th>\n",
       "      <td>9783.0</td>\n",
       "      <td>213.0</td>\n",
       "      <td>214.0</td>\n",
       "    </tr>\n",
       "    <tr>\n",
       "      <th>2020-02-29</th>\n",
       "      <td>79251.0</td>\n",
       "      <td>2835.0</td>\n",
       "      <td>39279.0</td>\n",
       "    </tr>\n",
       "    <tr>\n",
       "      <th>2020-03-31</th>\n",
       "      <td>81524.0</td>\n",
       "      <td>3305.0</td>\n",
       "      <td>76062.0</td>\n",
       "    </tr>\n",
       "    <tr>\n",
       "      <th>2020-04-30</th>\n",
       "      <td>82874.0</td>\n",
       "      <td>4633.0</td>\n",
       "      <td>77900.0</td>\n",
       "    </tr>\n",
       "    <tr>\n",
       "      <th>2020-05-31</th>\n",
       "      <td>83017.0</td>\n",
       "      <td>4634.0</td>\n",
       "      <td>78307.0</td>\n",
       "    </tr>\n",
       "    <tr>\n",
       "      <th>2020-06-30</th>\n",
       "      <td>83534.0</td>\n",
       "      <td>4634.0</td>\n",
       "      <td>78480.0</td>\n",
       "    </tr>\n",
       "    <tr>\n",
       "      <th>2020-07-31</th>\n",
       "      <td>84337.0</td>\n",
       "      <td>4634.0</td>\n",
       "      <td>78990.0</td>\n",
       "    </tr>\n",
       "    <tr>\n",
       "      <th>2020-08-31</th>\n",
       "      <td>85031.0</td>\n",
       "      <td>4634.0</td>\n",
       "      <td>80151.0</td>\n",
       "    </tr>\n",
       "  </tbody>\n",
       "</table>\n",
       "</div>"
      ],
      "text/plain": [
       "                 Confirmed  Deaths  Recovered\n",
       "ObservationDate                              \n",
       "2020-01-31          9783.0   213.0      214.0\n",
       "2020-02-29         79251.0  2835.0    39279.0\n",
       "2020-03-31         81524.0  3305.0    76062.0\n",
       "2020-04-30         82874.0  4633.0    77900.0\n",
       "2020-05-31         83017.0  4634.0    78307.0\n",
       "2020-06-30         83534.0  4634.0    78480.0\n",
       "2020-07-31         84337.0  4634.0    78990.0\n",
       "2020-08-31         85031.0  4634.0    80151.0"
      ]
     },
     "execution_count": 44,
     "metadata": {},
     "output_type": "execute_result"
    }
   ],
   "source": [
    "df_monthly = df_china.resample('M').max()\n",
    "df_monthly"
   ]
  },
  {
   "cell_type": "code",
   "execution_count": 62,
   "metadata": {},
   "outputs": [
    {
     "data": {
      "text/plain": [
       "<AxesSubplot:xlabel='ObservationDate'>"
      ]
     },
     "execution_count": 62,
     "metadata": {},
     "output_type": "execute_result"
    },
    {
     "data": {
      "image/png": "[encoded data removed]",
      "text/plain": [
       "<Figure size 1440x504 with 1 Axes>"
      ]
     },
     "metadata": {
      "needs_background": "light"
     },
     "output_type": "display_data"
    }
   ],
   "source": [
    "df_monthly.plot(figsize = (20,7), kind='bar', width=20)"
   ]
  },
  {
   "cell_type": "code",
   "execution_count": 65,
   "metadata": {},
   "outputs": [
    {
     "data": {
      "image/png": "[encoded data removed]",
      "text/plain": [
       "<Figure size 1440x504 with 1 Axes>"
      ]
     },
     "metadata": {
      "needs_background": "light"
     },
     "output_type": "display_data"
    }
   ],
   "source": [
    "df_monthly.plot(kind = 'bar', \n",
    "             stacked = 'True',          # Muestra las barras apiladas\n",
    "             alpha = 0.4,               # nivel de transparencia\n",
    "             width = 20,               # Grosor de las barras para dejar espacio entre ellas\n",
    "             figsize = (20,7));            # Cambiamos el tamaño de la figura"
   ]
  },
  {
   "cell_type": "code",
   "execution_count": 61,
   "metadata": {
    "colab": {
     "base_uri": "https://localhost:8080/",
     "height": 555
    },
    "colab_type": "code",
    "id": "o7Wz8kmyGR2j",
    "outputId": "c2329633-3f56-43cc-839c-8dd32616a454"
   },
   "outputs": [
    {
     "data": {
      "text/plain": [
       "<AxesSubplot:xlabel='ObservationDate'>"
      ]
     },
     "execution_count": 61,
     "metadata": {},
     "output_type": "execute_result"
    },
    {
     "data": {
      "image/png": "[encoded data removed]",
      "text/plain": [
       "<Figure size 720x504 with 1 Axes>"
      ]
     },
     "metadata": {
      "needs_background": "light"
     },
     "output_type": "display_data"
    }
   ],
   "source": [
    "df_monthly.plot(figsize = (10,7), kind='bar', stacked = True, width=20)"
   ]
  },
  {
   "cell_type": "markdown",
   "metadata": {},
   "source": [
    "Generando una nueva variable sobre personas que no se conoce cual será el tratamiento **Traitment**, son confirmadas y estan en espera."
   ]
  },
  {
   "cell_type": "code",
   "execution_count": 66,
   "metadata": {
    "colab": {
     "base_uri": "https://localhost:8080/",
     "height": 175
    },
    "colab_type": "code",
    "id": "E8I6hv8iGXeR",
    "outputId": "9ccd1ff3-c0e0-43a7-cd58-051f1351f1a9"
   },
   "outputs": [
    {
     "data": {
      "text/html": [
       "<div>\n",
       "<style scoped>\n",
       "    .dataframe tbody tr th:only-of-type {\n",
       "        vertical-align: middle;\n",
       "    }\n",
       "\n",
       "    .dataframe tbody tr th {\n",
       "        vertical-align: top;\n",
       "    }\n",
       "\n",
       "    .dataframe thead th {\n",
       "        text-align: right;\n",
       "    }\n",
       "</style>\n",
       "<table border=\"1\" class=\"dataframe\">\n",
       "  <thead>\n",
       "    <tr style=\"text-align: right;\">\n",
       "      <th></th>\n",
       "      <th>Confirmed</th>\n",
       "      <th>Deaths</th>\n",
       "      <th>Recovered</th>\n",
       "      <th>Traitment</th>\n",
       "    </tr>\n",
       "    <tr>\n",
       "      <th>ObservationDate</th>\n",
       "      <th></th>\n",
       "      <th></th>\n",
       "      <th></th>\n",
       "      <th></th>\n",
       "    </tr>\n",
       "  </thead>\n",
       "  <tbody>\n",
       "    <tr>\n",
       "      <th>2020-01-31</th>\n",
       "      <td>9783.0</td>\n",
       "      <td>213.0</td>\n",
       "      <td>214.0</td>\n",
       "      <td>9356.0</td>\n",
       "    </tr>\n",
       "    <tr>\n",
       "      <th>2020-02-29</th>\n",
       "      <td>79251.0</td>\n",
       "      <td>2835.0</td>\n",
       "      <td>39279.0</td>\n",
       "      <td>37137.0</td>\n",
       "    </tr>\n",
       "    <tr>\n",
       "      <th>2020-03-31</th>\n",
       "      <td>81524.0</td>\n",
       "      <td>3305.0</td>\n",
       "      <td>76062.0</td>\n",
       "      <td>2157.0</td>\n",
       "    </tr>\n",
       "    <tr>\n",
       "      <th>2020-04-30</th>\n",
       "      <td>82874.0</td>\n",
       "      <td>4633.0</td>\n",
       "      <td>77900.0</td>\n",
       "      <td>341.0</td>\n",
       "    </tr>\n",
       "    <tr>\n",
       "      <th>2020-05-31</th>\n",
       "      <td>83017.0</td>\n",
       "      <td>4634.0</td>\n",
       "      <td>78307.0</td>\n",
       "      <td>76.0</td>\n",
       "    </tr>\n",
       "    <tr>\n",
       "      <th>2020-06-30</th>\n",
       "      <td>83534.0</td>\n",
       "      <td>4634.0</td>\n",
       "      <td>78480.0</td>\n",
       "      <td>420.0</td>\n",
       "    </tr>\n",
       "    <tr>\n",
       "      <th>2020-07-31</th>\n",
       "      <td>84337.0</td>\n",
       "      <td>4634.0</td>\n",
       "      <td>78990.0</td>\n",
       "      <td>713.0</td>\n",
       "    </tr>\n",
       "    <tr>\n",
       "      <th>2020-08-31</th>\n",
       "      <td>85031.0</td>\n",
       "      <td>4634.0</td>\n",
       "      <td>80151.0</td>\n",
       "      <td>246.0</td>\n",
       "    </tr>\n",
       "  </tbody>\n",
       "</table>\n",
       "</div>"
      ],
      "text/plain": [
       "                 Confirmed  Deaths  Recovered  Traitment\n",
       "ObservationDate                                         \n",
       "2020-01-31          9783.0   213.0      214.0     9356.0\n",
       "2020-02-29         79251.0  2835.0    39279.0    37137.0\n",
       "2020-03-31         81524.0  3305.0    76062.0     2157.0\n",
       "2020-04-30         82874.0  4633.0    77900.0      341.0\n",
       "2020-05-31         83017.0  4634.0    78307.0       76.0\n",
       "2020-06-30         83534.0  4634.0    78480.0      420.0\n",
       "2020-07-31         84337.0  4634.0    78990.0      713.0\n",
       "2020-08-31         85031.0  4634.0    80151.0      246.0"
      ]
     },
     "execution_count": 66,
     "metadata": {},
     "output_type": "execute_result"
    }
   ],
   "source": [
    "df_monthly['Traitment'] = df_monthly['Confirmed'] - df_monthly['Deaths']- df_monthly['Recovered']\n",
    "df_monthly"
   ]
  },
  {
   "cell_type": "code",
   "execution_count": 78,
   "metadata": {
    "colab": {
     "base_uri": "https://localhost:8080/",
     "height": 268
    },
    "colab_type": "code",
    "id": "UMgKzJLDGuz5",
    "outputId": "fadbc84a-6b67-4e01-f697-643707cc1267"
   },
   "outputs": [
    {
     "data": {
      "text/plain": [
       "array([<AxesSubplot:ylabel='2020-01-31 00:00:00'>,\n",
       "       <AxesSubplot:ylabel='2020-02-29 00:00:00'>,\n",
       "       <AxesSubplot:ylabel='2020-03-31 00:00:00'>,\n",
       "       <AxesSubplot:ylabel='2020-04-30 00:00:00'>,\n",
       "       <AxesSubplot:ylabel='2020-05-31 00:00:00'>,\n",
       "       <AxesSubplot:ylabel='2020-06-30 00:00:00'>,\n",
       "       <AxesSubplot:ylabel='2020-07-31 00:00:00'>,\n",
       "       <AxesSubplot:ylabel='2020-08-31 00:00:00'>], dtype=object)"
      ]
     },
     "execution_count": 78,
     "metadata": {},
     "output_type": "execute_result"
    },
    {
     "data": {
      "image/png": "[encoded data removed]",
      "text/plain": [
       "<Figure size 2880x504 with 8 Axes>"
      ]
     },
     "metadata": {},
     "output_type": "display_data"
    }
   ],
   "source": [
    "df_monthly[['Deaths', 'Recovered', 'Traitment']].T.plot(figsize = (40,7), kind = 'pie', subplots=True)"
   ]
  },
  {
   "cell_type": "code",
   "execution_count": 79,
   "metadata": {
    "colab": {
     "base_uri": "https://localhost:8080/",
     "height": 446
    },
    "colab_type": "code",
    "id": "-9SJ3ZyrG7aZ",
    "outputId": "ee26a7dd-8aee-4e79-a74a-f078d7363bf5"
   },
   "outputs": [
    {
     "data": {
      "text/plain": [
       "<AxesSubplot:>"
      ]
     },
     "execution_count": 79,
     "metadata": {},
     "output_type": "execute_result"
    },
    {
     "data": {
      "image/png": "[encoded data removed]",
      "text/plain": [
       "<Figure size 720x504 with 1 Axes>"
      ]
     },
     "metadata": {
      "needs_background": "light"
     },
     "output_type": "display_data"
    }
   ],
   "source": [
    "df_china['rate'] = 1- df_china['Deaths']/df_china['Confirmed']    #tasa de supervivencia\n",
    "df_china['rate'].hist(figsize = (10,7), bins = 10)"
   ]
  },
  {
   "cell_type": "code",
   "execution_count": 80,
   "metadata": {
    "colab": {
     "base_uri": "https://localhost:8080/",
     "height": 446
    },
    "colab_type": "code",
    "id": "_rqQysbUHHQ6",
    "outputId": "03829ff3-9f85-45fe-c88e-0188d3eb85d6"
   },
   "outputs": [
    {
     "data": {
      "text/plain": [
       "<AxesSubplot:ylabel='Density'>"
      ]
     },
     "execution_count": 80,
     "metadata": {},
     "output_type": "execute_result"
    },
    {
     "data": {
      "image/png": "[encoded data removed]",
      "text/plain": [
       "<Figure size 720x504 with 1 Axes>"
      ]
     },
     "metadata": {
      "needs_background": "light"
     },
     "output_type": "display_data"
    }
   ],
   "source": [
    "df_china['rate'].plot(kind = 'kde', figsize = (10,7))"
   ]
  },
  {
   "cell_type": "code",
   "execution_count": null,
   "metadata": {},
   "outputs": [],
   "source": []
  }
 ],
 "metadata": {
  "colab": {
   "name": "11_datetime.ipynb",
   "provenance": []
  },
  "kernelspec": {
   "display_name": "Python 3",
   "language": "python",
   "name": "python3"
  },
  "language_info": {
   "codemirror_mode": {
    "name": "ipython",
    "version": 3
   },
   "file_extension": ".py",
   "mimetype": "text/x-python",
   "name": "python",
   "nbconvert_exporter": "python",
   "pygments_lexer": "ipython3",
   "version": "3.7.9"
  }
 },
 "nbformat": 4,
 "nbformat_minor": 4
}
