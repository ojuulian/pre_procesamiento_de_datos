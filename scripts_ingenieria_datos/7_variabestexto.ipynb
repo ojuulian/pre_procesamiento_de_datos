{
 "cells": [
  {
   "cell_type": "code",
   "execution_count": 7,
   "metadata": {},
   "outputs": [],
   "source": [
    "import pandas as pd\n",
    "data = {'names':['Sara Moreno 34',\n",
    "                 'jUAn GOMez 23',\n",
    "                 'CArlos mArtinez 89',\n",
    "                 'Alfredo VelaZques 3',\n",
    "                 'luis Mora 56',\n",
    "                 '@freddier #platzi 10',pd.NA]}"
   ]
  },
  {
   "cell_type": "code",
   "execution_count": 32,
   "metadata": {},
   "outputs": [
    {
     "data": {
      "text/plain": [
       "names    object\n",
       "dtype: object"
      ]
     },
     "execution_count": 32,
     "metadata": {},
     "output_type": "execute_result"
    }
   ],
   "source": [
    "df = pd.DataFrame(data)\n",
    "df.dtypes"
   ]
  },
  {
   "cell_type": "code",
   "execution_count": 43,
   "metadata": {},
   "outputs": [
    {
     "data": {
      "text/plain": [
       "0          SARA MORENO 34\n",
       "1           JUAN GOMEZ 23\n",
       "2      CARLOS MARTINEZ 89\n",
       "3     ALFREDO VELAZQUES 3\n",
       "4            LUIS MORA 56\n",
       "5    @FREDDIER #PLATZI 10\n",
       "6                    <NA>\n",
       "Name: names, dtype: object"
      ]
     },
     "execution_count": 43,
     "metadata": {},
     "output_type": "execute_result"
    }
   ],
   "source": [
    "df['names'].str.upper()"
   ]
  },
  {
   "cell_type": "code",
   "execution_count": 48,
   "metadata": {},
   "outputs": [
    {
     "data": {
      "text/plain": [
       "0           [Sara Moreno 34]\n",
       "1            [jUAn GOMez 23]\n",
       "2       [CArlos mArtinez 89]\n",
       "3      [Alfredo VelaZques 3]\n",
       "4             [luis Mora 56]\n",
       "5    [@freddier , platzi 10]\n",
       "6                       <NA>\n",
       "Name: names, dtype: object"
      ]
     },
     "execution_count": 48,
     "metadata": {},
     "output_type": "execute_result"
    }
   ],
   "source": [
    "df['names'].str.split('#')"
   ]
  },
  {
   "cell_type": "code",
   "execution_count": 49,
   "metadata": {},
   "outputs": [
    {
     "data": {
      "text/plain": [
       "0       [, S, a, r, a,  , M, o, r, e, n, o,  , 3, 4, ]\n",
       "1          [, j, U, A, n,  , G, O, M, e, z,  , 2, 3, ]\n",
       "2    [, C, A, r, l, o, s,  , m, A, r, t, i, n, e, z...\n",
       "3    [, A, l, f, r, e, d, o,  , V, e, l, a, Z, q, u...\n",
       "4             [, l, u, i, s,  , M, o, r, a,  , 5, 6, ]\n",
       "5    [, @, f, r, e, d, d, i, e, r,  , #, p, l, a, t...\n",
       "6                                                 <NA>\n",
       "Name: names, dtype: object"
      ]
     },
     "execution_count": 49,
     "metadata": {},
     "output_type": "execute_result"
    }
   ],
   "source": [
    "df['names'].str.split('')"
   ]
  },
  {
   "cell_type": "code",
   "execution_count": 66,
   "metadata": {},
   "outputs": [
    {
     "data": {
      "text/plain": [
       "0    no 34\n",
       "1    ez 23\n",
       "2    ez 89\n",
       "3    ues 3\n",
       "4    ra 56\n",
       "5    zi 10\n",
       "6     <NA>\n",
       "Name: names, dtype: object"
      ]
     },
     "execution_count": 66,
     "metadata": {},
     "output_type": "execute_result"
    }
   ],
   "source": [
    "df['names'].str[-5:]"
   ]
  },
  {
   "cell_type": "code",
   "execution_count": null,
   "metadata": {},
   "outputs": [],
   "source": []
  },
  {
   "cell_type": "code",
   "execution_count": 67,
   "metadata": {},
   "outputs": [
    {
     "data": {
      "text/plain": [
       "0          Sara Moreno 34\n",
       "1           jUAn GOMez 23\n",
       "2      CArlos mArtinez 89\n",
       "3     Antonio VelaZques 3\n",
       "4            luis Mora 56\n",
       "5    @freddier #platzi 10\n",
       "6                    <NA>\n",
       "Name: names, dtype: object"
      ]
     },
     "execution_count": 67,
     "metadata": {},
     "output_type": "execute_result"
    }
   ],
   "source": [
    "df['names'].str.replace('Alfredo','Antonio')"
   ]
  },
  {
   "cell_type": "code",
   "execution_count": 68,
   "metadata": {},
   "outputs": [
    {
     "data": {
      "text/plain": [
       "0    [ara]\n",
       "1       []\n",
       "2       []\n",
       "3       []\n",
       "4       []\n",
       "5       []\n",
       "6     <NA>\n",
       "Name: names, dtype: object"
      ]
     },
     "execution_count": 68,
     "metadata": {},
     "output_type": "execute_result"
    }
   ],
   "source": [
    "df['names'].str.findall('ara')"
   ]
  },
  {
   "cell_type": "code",
   "execution_count": 70,
   "metadata": {},
   "outputs": [
    {
     "data": {
      "text/plain": [
       "0     True\n",
       "1    False\n",
       "2     True\n",
       "3     True\n",
       "4     True\n",
       "5    False\n",
       "6     <NA>\n",
       "Name: names, dtype: object"
      ]
     },
     "execution_count": 70,
     "metadata": {},
     "output_type": "execute_result"
    }
   ],
   "source": [
    "df['names'].str.contains('o')"
   ]
  },
  {
   "cell_type": "code",
   "execution_count": 71,
   "metadata": {},
   "outputs": [
    {
     "data": {
      "text/plain": [
       "0       2\n",
       "1       1\n",
       "2       2\n",
       "3       2\n",
       "4       1\n",
       "5       1\n",
       "6    <NA>\n",
       "Name: names, dtype: object"
      ]
     },
     "execution_count": 71,
     "metadata": {},
     "output_type": "execute_result"
    }
   ],
   "source": [
    "df['names'].str.lower().str.count('a')"
   ]
  },
  {
   "cell_type": "code",
   "execution_count": 72,
   "metadata": {},
   "outputs": [
    {
     "data": {
      "text/plain": [
       "0     34\n",
       "1     23\n",
       "2     89\n",
       "3      3\n",
       "4     56\n",
       "5     10\n",
       "6    NaN\n",
       "Name: names, dtype: object"
      ]
     },
     "execution_count": 72,
     "metadata": {},
     "output_type": "execute_result"
    }
   ],
   "source": [
    "df['names'].str.extract('([0-9]+)', expand=False)"
   ]
  },
  {
   "cell_type": "code",
   "execution_count": 73,
   "metadata": {},
   "outputs": [
    {
     "data": {
      "text/plain": [
       "0         Sara Moreno 34\n",
       "1          jUAn GOMez 23\n",
       "2     CArlos mArtinez 89\n",
       "3    Alfredo VelaZques 3\n",
       "4           luis Mora 56\n",
       "5             #platzi 10\n",
       "6                   <NA>\n",
       "Name: names, dtype: object"
      ]
     },
     "execution_count": 73,
     "metadata": {},
     "output_type": "execute_result"
    }
   ],
   "source": [
    "df['names'].str.replace('@[^\\s]+','')"
   ]
  },
  {
   "cell_type": "code",
   "execution_count": null,
   "metadata": {},
   "outputs": [],
   "source": []
  },
  {
   "cell_type": "code",
   "execution_count": null,
   "metadata": {},
   "outputs": [],
   "source": []
  },
  {
   "cell_type": "code",
   "execution_count": null,
   "metadata": {},
   "outputs": [],
   "source": []
  }
 ],
 "metadata": {
  "kernelspec": {
   "display_name": "Python 3",
   "language": "python",
   "name": "python3"
  },
  "language_info": {
   "codemirror_mode": {
    "name": "ipython",
    "version": 3
   },
   "file_extension": ".py",
   "mimetype": "text/x-python",
   "name": "python",
   "nbconvert_exporter": "python",
   "pygments_lexer": "ipython3",
   "version": "3.7.9"
  }
 },
 "nbformat": 4,
 "nbformat_minor": 4
}
